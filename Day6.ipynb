{
 "cells": [
  {
   "cell_type": "code",
   "execution_count": 6,
   "id": "28a20648",
   "metadata": {},
   "outputs": [
    {
     "name": "stdout",
     "output_type": "stream",
     "text": [
      "Enter the character which u want to remove : J\n",
      "eetDesai\n"
     ]
    }
   ],
   "source": [
    "a = \"JeetDesai\"\n",
    "def element():\n",
    "    x = input(\"Enter the character which u want to remove : \")\n",
    "    y = a.replace(x,\"\")\n",
    "    print(y)\n",
    "element()"
   ]
  },
  {
   "cell_type": "code",
   "execution_count": 2,
   "id": "e9e21f56",
   "metadata": {},
   "outputs": [
    {
     "name": "stdout",
     "output_type": "stream",
     "text": [
      "['False', 'None', 'True', 'and', 'as', 'assert', 'async', 'await', 'break', 'class', 'continue', 'def', 'del', 'elif', 'else', 'except', 'finally', 'for', 'from', 'global', 'if', 'import', 'in', 'is', 'lambda', 'nonlocal', 'not', 'or', 'pass', 'raise', 'return', 'try', 'while', 'with', 'yield']\n"
     ]
    }
   ],
   "source": [
    "#FUNCTIONS\n",
    "#Set of instructions which performs some particular task\n",
    "#Lamda: anonymous function\n",
    "import keyword\n",
    "keyword.kwlist\n",
    "print(keyword.kwlist)"
   ]
  },
  {
   "cell_type": "code",
   "execution_count": 3,
   "id": "fd7f094e",
   "metadata": {},
   "outputs": [
    {
     "name": "stdout",
     "output_type": "stream",
     "text": [
      "WELCOME TO PYTHON \n"
     ]
    }
   ],
   "source": [
    "def display():\n",
    "    print(\"WELCOME TO PYTHON \")\n",
    "display()#function calling\n"
   ]
  },
  {
   "cell_type": "code",
   "execution_count": 5,
   "id": "8b2a08e2",
   "metadata": {},
   "outputs": [
    {
     "name": "stdout",
     "output_type": "stream",
     "text": [
      "Welcome JEET Your age is 25 years\n"
     ]
    }
   ],
   "source": [
    "#Parameterized function\n",
    "def displayData(name,age):\n",
    "    print(f'Welcome {name} Your age is {age} years')\n",
    "displayData(\"JEET\",25)"
   ]
  },
  {
   "cell_type": "code",
   "execution_count": 6,
   "id": "61ee7628",
   "metadata": {},
   "outputs": [
    {
     "name": "stdout",
     "output_type": "stream",
     "text": [
      "Welcome your age is  Ram 25\n"
     ]
    }
   ],
   "source": [
    "#Parameterized function method 2 not proper formatting\n",
    "def displayData(name,age):\n",
    "    print(\"Welcome your age is \",name,age)\n",
    "displayData(\"Ram\",25)"
   ]
  },
  {
   "cell_type": "code",
   "execution_count": 9,
   "id": "c1083624",
   "metadata": {},
   "outputs": [
    {
     "name": "stdout",
     "output_type": "stream",
     "text": [
      "Welcome Ram Your age is  25 years\n"
     ]
    }
   ],
   "source": [
    "#Parameterized function method 3\n",
    "def displayData(name,age):\n",
    "    print(\"Welcome\",name,\"Your age is \",age,\"years\")\n",
    "displayData(\"Ram\",25)\n"
   ]
  },
  {
   "cell_type": "code",
   "execution_count": 13,
   "id": "616eba3f",
   "metadata": {},
   "outputs": [
    {
     "name": "stdout",
     "output_type": "stream",
     "text": [
      "Enter First Number : 10\n",
      "Enter Second Number : 10\n",
      "Enter third Number : 10\n",
      "Addition of numbers are 30\n"
     ]
    }
   ],
   "source": [
    "def additionNumbers(x,y,z):\n",
    "    return x+y+z\n",
    "fn = int(input(\"Enter First Number : \"))\n",
    "sn = int(input(\"Enter Second Number : \"))\n",
    "tn = int(input(\"Enter third Number : \"))\n",
    "\n",
    "result = additionNumbers(fn,sn,tn)\n",
    "print(f'Addition of numbers are {result}')"
   ]
  },
  {
   "cell_type": "code",
   "execution_count": 14,
   "id": "bd673e83",
   "metadata": {},
   "outputs": [
    {
     "name": "stdout",
     "output_type": "stream",
     "text": [
      "75\n"
     ]
    }
   ],
   "source": [
    "#LAMBDA\n",
    "res = lambda x,y,z : x+y+z\n",
    "print(res(25,25,25))"
   ]
  },
  {
   "cell_type": "code",
   "execution_count": 15,
   "id": "1a28f873",
   "metadata": {},
   "outputs": [],
   "source": [
    "import itertools #Python’s Itertool is a module that provides various functions that work on iterators to produce complex iterators"
   ]
  },
  {
   "cell_type": "code",
   "execution_count": 16,
   "id": "3d472735",
   "metadata": {},
   "outputs": [],
   "source": [
    "import math #Python has a built-in module that you can use for mathematical tasks."
   ]
  },
  {
   "cell_type": "code",
   "execution_count": 17,
   "id": "c2bfd2de",
   "metadata": {},
   "outputs": [],
   "source": [
    "import os \n",
    "#The OS module in Python provides functions for interacting with the operating system. \n",
    "#OS comes under Python’s standard utility modules. This module provides a portable way of using operating system-dependent \n",
    "#functionality"
   ]
  },
  {
   "cell_type": "code",
   "execution_count": 20,
   "id": "0b7227c8",
   "metadata": {},
   "outputs": [],
   "source": [
    "import sys #The sys module in Python provides various functions and variables that are used to manipulate different parts of the Python runtime environment"
   ]
  },
  {
   "cell_type": "code",
   "execution_count": 21,
   "id": "74afa5f9",
   "metadata": {},
   "outputs": [
    {
     "name": "stdout",
     "output_type": "stream",
     "text": [
      "<module 'sys' (built-in)>\n"
     ]
    }
   ],
   "source": [
    "print(os.sys)"
   ]
  },
  {
   "cell_type": "code",
   "execution_count": 22,
   "id": "e782f2ef",
   "metadata": {},
   "outputs": [
    {
     "name": "stdout",
     "output_type": "stream",
     "text": [
      "1013\n"
     ]
    }
   ],
   "source": [
    "print(sys.api_version)"
   ]
  },
  {
   "cell_type": "code",
   "execution_count": 23,
   "id": "c106f413",
   "metadata": {},
   "outputs": [
    {
     "name": "stdout",
     "output_type": "stream",
     "text": [
      "C:\\Users\\JEET DESAI\\Python TOPS\n"
     ]
    }
   ],
   "source": [
    "print(os.getcwd())"
   ]
  },
  {
   "cell_type": "code",
   "execution_count": 24,
   "id": "600d7ec4",
   "metadata": {},
   "outputs": [],
   "source": [
    "import pathlib #This module offers classes representing filesystem paths with semantics appropriate for different operating systems"
   ]
  },
  {
   "cell_type": "code",
   "execution_count": 25,
   "id": "bf1783c2",
   "metadata": {},
   "outputs": [
    {
     "name": "stdout",
     "output_type": "stream",
     "text": [
      "Pyhon programming\n"
     ]
    }
   ],
   "source": [
    "def removeString(mystring,i):\n",
    "    f = mystring[:i]\n",
    "    s = mystring[i+1:]\n",
    "    return f+s\n",
    "result = removeString(\"Python programming\",2)\n",
    "print(result)"
   ]
  },
  {
   "cell_type": "code",
   "execution_count": null,
   "id": "79e6d1a9",
   "metadata": {},
   "outputs": [],
   "source": []
  }
 ],
 "metadata": {
  "kernelspec": {
   "display_name": "Python 3 (ipykernel)",
   "language": "python",
   "name": "python3"
  },
  "language_info": {
   "codemirror_mode": {
    "name": "ipython",
    "version": 3
   },
   "file_extension": ".py",
   "mimetype": "text/x-python",
   "name": "python",
   "nbconvert_exporter": "python",
   "pygments_lexer": "ipython3",
   "version": "3.10.9"
  }
 },
 "nbformat": 4,
 "nbformat_minor": 5
}
