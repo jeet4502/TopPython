{
 "cells": [
  {
   "cell_type": "code",
   "execution_count": 1,
   "id": "5392d681",
   "metadata": {},
   "outputs": [
    {
     "name": "stdout",
     "output_type": "stream",
     "text": [
      "Rocky says woof!\n"
     ]
    }
   ],
   "source": [
    "#Constructor in python is a special method that is called when an object is created. \n",
    "#The purpose of a python constructor is to assign values to the data members within the class when an object is initialized.\n",
    "#Class \n",
    "#SELF represents the instance of class.This handy keyword allows you to access variables, attributes, \n",
    "#and methods of a defined class in Python\n",
    "class Dog:\n",
    "    def __init__(self,name,breed):#The super() function is used to give access to methods and properties of a parent or sibling class. \n",
    "#The super() function returns an object that represents the parent class.\n",
    "class Animal:\n",
    "    def __init__(self,name):\n",
    "        self.name=name\n",
    "        self.breed = breed\n",
    "    def bark(self):\n",
    "        return f\"{self.name} says woof!\"\n",
    "lab = Dog(\"Rocky\",\"Golden Retrevier\")\n",
    "print(lab.bark())\n"
   ]
  },
  {
   "cell_type": "code",
   "execution_count": 4,
   "id": "2d3e29f3",
   "metadata": {},
   "outputs": [
    {
     "name": "stdout",
     "output_type": "stream",
     "text": [
      "Name is :Rocky and breed is : Golden Retriever\n"
     ]
    }
   ],
   "source": [
    "#The super() function is used to give access to methods and properties of a parent or sibling class. \n",
    "#The super() function returns an object that represents the parent class.\n",
    "class Animal:\n",
    "    def __init__(self,name):\n",
    "        self.name=name\n",
    "class Dog(Animal):\n",
    "    def __init__(self,name,breed):\n",
    "        self.breed = breed\n",
    "        super().__init__(name)\n",
    "    def display(self):\n",
    "        print(f\"Name is :{self.name} and breed is : {self.breed}\")\n",
    "lab = Dog(\"Rocky\",\"Golden Retriever\")\n",
    "\n",
    "lab.display()\n",
    "        "
   ]
  },
  {
   "cell_type": "code",
   "execution_count": 25,
   "id": "89750e7c",
   "metadata": {},
   "outputs": [
    {
     "name": "stdout",
     "output_type": "stream",
     "text": [
      "Area of Rectangle is 50 \n",
      "Area of Square is 25 \n",
      "Area of circle is 50.24\n"
     ]
    }
   ],
   "source": [
    "class Rectangle:\n",
    "    def __init__(self,l,b,a):\n",
    "        self.l=l\n",
    "        self.b=b\n",
    "        self.a=l*b\n",
    "    def display(self):\n",
    "        print(f\"Area of Rectangle is {self.a} \")\n",
    "class Square:\n",
    "    def __init__(self,s,c):\n",
    "        self.s=s\n",
    "        self.c=s*s\n",
    "    def display(self):\n",
    "        print(f\"Area of Square is {self.c} \")\n",
    "class Circle:\n",
    "    def __init__(self,r,d):\n",
    "        self.r=r\n",
    "        self.d=3.14*r*r\n",
    "    def display(self):\n",
    "        print(f\"Area of circle is {self.d}\")\n",
    "j=Rectangle(5,10,0)\n",
    "j.display()\n",
    "k=Square(5,0)\n",
    "k.display()\n",
    "l=Circle(4,0)\n",
    "l.display()"
   ]
  },
  {
   "cell_type": "code",
   "execution_count": 14,
   "id": "72d8dc40",
   "metadata": {},
   "outputs": [
    {
     "name": "stdout",
     "output_type": "stream",
     "text": [
      "Ted is eating\n",
      "BluethePomeranianis eating\n"
     ]
    }
   ],
   "source": [
    "class Animal():\n",
    "    def __init__(self,name,weight):\n",
    "        self.name=name\n",
    "        self.weight=weight\n",
    "    def eat(self):\n",
    "        print(f\"{self.name} is eating\")\n",
    "class Dog(Animal):\n",
    "    def __init__(self,name,weight,breed):\n",
    "        super().__init__(name,weight)\n",
    "        self.breed=breed\n",
    "    def eat(self):\n",
    "        print(f\"{self.name} the{self.breed} is eating\")\n",
    "        \n",
    "a1=Animal(\"Ted\",50)\n",
    "a1.eat()\n",
    "d1=Dog(\"Blue\",15,\"Pomeranian\")\n",
    "d1.eat()"
   ]
  },
  {
   "cell_type": "code",
   "execution_count": 1,
   "id": "76cb1832",
   "metadata": {},
   "outputs": [],
   "source": [
    "#Aggregation\n",
    "#It is a concept where an object has another object as part of it. This is different from composition, where an object \n",
    "#is made up of another object. In aggregation the object are independent of each other and can exist on their own"
   ]
  },
  {
   "cell_type": "code",
   "execution_count": 4,
   "id": "d3edae99",
   "metadata": {},
   "outputs": [],
   "source": [
    "class Customer:\n",
    "    def __init__(self,name,gender,address):\n",
    "        self.name=name\n",
    "        self.gender=gender\n",
    "        self.address=address\n",
    "    def print_address(self):\n",
    "        print(self.address._Address__city,self.address.pin,self.address.state)\n",
    "    def edit_profile(self, new_name, new_city,new_pin,new_state):\n",
    "        self.name=new_name\n",
    "        self.address.edit_address(new_city,new_pin,new_state)\n",
    "class Address:\n",
    "    def __init__(self,city,pin,state):\n",
    "        self.__city=city\n",
    "        self.pin=pin\n",
    "        self.state=state\n",
    "    def get_city():\n",
    "        return self.__city\n",
    "    def edit_address(self,new_city,new_pin,new_state):\n",
    "        self.__city=new_city\n",
    "        self.pin=new_pin\n",
    "        self.state=new_state\n",
    "address= Address(\"Mumbai\",464001,\"Maharashrta\")\n",
    "cust = Customer(\"Jeet\",\"Male\",address)"
   ]
  },
  {
   "cell_type": "code",
   "execution_count": 5,
   "id": "c37975a5",
   "metadata": {},
   "outputs": [
    {
     "name": "stdout",
     "output_type": "stream",
     "text": [
      "Mumbai 464001 Maharashrta\n"
     ]
    }
   ],
   "source": [
    "cust.print_address()"
   ]
  },
  {
   "cell_type": "code",
   "execution_count": 6,
   "id": "7d0398e9",
   "metadata": {},
   "outputs": [],
   "source": [
    "cust.edit_profile(\"Parth\",\"Ahmedabad\",478912,\"Gujarat\")"
   ]
  },
  {
   "cell_type": "code",
   "execution_count": 7,
   "id": "4a1dd2ad",
   "metadata": {},
   "outputs": [
    {
     "name": "stdout",
     "output_type": "stream",
     "text": [
      "Ahmedabad 478912 Gujarat\n"
     ]
    }
   ],
   "source": [
    "cust.print_address()"
   ]
  },
  {
   "cell_type": "code",
   "execution_count": 25,
   "id": "89c27927",
   "metadata": {},
   "outputs": [
    {
     "name": "stdout",
     "output_type": "stream",
     "text": [
      "You have login successfully\n",
      "Enrolled in this course \n",
      "Ram\n",
      "Male\n"
     ]
    }
   ],
   "source": [
    "#Inheritance\n",
    "class User:\n",
    "    def __init__(self):\n",
    "        self.name=\"Ram\"\n",
    "        self.gender=\"Male\"\n",
    "    def login(self):\n",
    "        print(\"You have login successfully\")\n",
    "class Student(User):\n",
    "    def __init__(self):\n",
    "        self.rollno=101\n",
    "    def enroll(self):\n",
    "        print(\"Enrolled in this course \")\n",
    "user = User()\n",
    "stu = Student()\n",
    "\n",
    "user.login()\n",
    "stu.enroll()\n",
    "print(user.name)\n",
    "print(user.gender)\n"
   ]
  },
  {
   "cell_type": "code",
   "execution_count": 37,
   "id": "375b5b9e",
   "metadata": {},
   "outputs": [
    {
     "name": "stdout",
     "output_type": "stream",
     "text": [
      "Enter your name : jeet\n",
      "Enter your tech skills :  python\n",
      "How many years of experience : 5\n",
      "Feedback is more than or equal to 4.5\n"
     ]
    },
    {
     "ename": "TypeError",
     "evalue": "dict expected at most 1 argument, got 2",
     "output_type": "error",
     "traceback": [
      "\u001b[1;31m---------------------------------------------------------------------------\u001b[0m",
      "\u001b[1;31mTypeError\u001b[0m                                 Traceback (most recent call last)",
      "Cell \u001b[1;32mIn[37], line 11\u001b[0m\n\u001b[0;32m      9\u001b[0m experience\u001b[38;5;241m==\u001b[39mvalue\n\u001b[0;32m     10\u001b[0m value\u001b[38;5;241m=\u001b[39m{\u001b[38;5;124m'\u001b[39m\u001b[38;5;124m5\u001b[39m\u001b[38;5;124m'\u001b[39m,\u001b[38;5;124m'\u001b[39m\u001b[38;5;124m2\u001b[39m\u001b[38;5;124m'\u001b[39m,\u001b[38;5;124m'\u001b[39m\u001b[38;5;124m10\u001b[39m\u001b[38;5;124m'\u001b[39m}\n\u001b[1;32m---> 11\u001b[0m job\u001b[38;5;241m=\u001b[39m{\u001b[38;5;28;43mdict\u001b[39;49m\u001b[43m(\u001b[49m\u001b[43mcourses\u001b[49m\u001b[43m,\u001b[49m\u001b[43mexperience\u001b[49m\u001b[43m)\u001b[49m}\n\u001b[0;32m     12\u001b[0m \u001b[38;5;28mprint\u001b[39m(job)\n",
      "\u001b[1;31mTypeError\u001b[0m: dict expected at most 1 argument, got 2"
     ]
    }
   ],
   "source": [
    "name = input(\"Enter your name : \")\n",
    "skills = input(\"Enter your tech skills :  \")\n",
    "experience = int(input(\"How many years of experience : \"))\n",
    "if experience>=3:\n",
    "    print(\"Feedback is more than or equal to 4.5\")\n",
    "else:\n",
    "    print(\"Feedback is less than equal to 4\")\n",
    "courses={'Data Scientist','Python Developer','machine learning'}\n",
    "experience==value\n",
    "value={'5','2','10'}\n",
    "job={dict(courses,experience)}\n",
    "print(job)"
   ]
  },
  {
   "cell_type": "code",
   "execution_count": 30,
   "id": "55a9edb9",
   "metadata": {},
   "outputs": [
    {
     "name": "stdout",
     "output_type": "stream",
     "text": [
      "{'Data Scientist': '5', 'Python Developer': '2', 'machine learning': '10'}\n"
     ]
    }
   ],
   "source": [
    "courses={'Data Scientist':'5','Python Developer':'2','machine learning':'10'}\n",
    "print(dict(courses))"
   ]
  },
  {
   "cell_type": "code",
   "execution_count": 1,
   "id": "bbd6387f",
   "metadata": {},
   "outputs": [],
   "source": [
    "class Instructor:\n",
    "\n",
    "    def __init__(self, name, technology_skills, experience, average_feedback):\n",
    "        self.__name = name\n",
    "        self.__technology_skills = technology_skills\n",
    "        self.__experience = experience\n",
    "        self.__average_feedback = average_feedback\n",
    "        self.__is_eligible = False\n",
    "\n",
    "    def check_eligibility(self):\n",
    "        if self.__experience > 3 and self.__average_feedback >= 4.5:\n",
    "            self._is_eligible = True\n",
    "            return True\n",
    "        elif self.__experience <= 3 and self.__average_feedback >= 4.0:\n",
    "            self.__is_eligible = True\n",
    "            return True\n",
    "        return False\n",
    "\n",
    "    def allocate_course(self, technology_skills):\n",
    "        if set(technology_skills) - set(self.__technology_skills) == set() and self.__is_eligible:\n",
    "            return True\n",
    "        return False"
   ]
  },
  {
   "cell_type": "code",
   "execution_count": 2,
   "id": "c05ca685",
   "metadata": {},
   "outputs": [
    {
     "data": {
      "text/plain": [
       "True"
      ]
     },
     "execution_count": 2,
     "metadata": {},
     "output_type": "execute_result"
    }
   ],
   "source": [
    "a = Instructor(\"a\", [\"x\", \"y\", \"z\", \"a\"], 2, 4.1)\n",
    "a.check_eligibility()\n",
    "a.allocate_course([\"x\", \"a\"])"
   ]
  },
  {
   "cell_type": "code",
   "execution_count": 62,
   "id": "c9d2a535",
   "metadata": {},
   "outputs": [
    {
     "name": "stdout",
     "output_type": "stream",
     "text": [
      "Jeet Desai\n"
     ]
    }
   ],
   "source": [
    "class Father:\n",
    "    def __init__(self,fname,lname):\n",
    "        self.fname=fname\n",
    "        self.lname=lname\n",
    "    def print_name(self):\n",
    "        print(self.fname,self.lname)\n",
    "class Son(Father):\n",
    "    def __init__(self,fname,lname):\n",
    "        Father.__init__(self,fname,lname)\n",
    "son=Son(\"Jeet\",\"Desai\")\n",
    "son.print_name()\n"
   ]
  },
  {
   "cell_type": "code",
   "execution_count": 2,
   "id": "cb3fcff6",
   "metadata": {},
   "outputs": [
    {
     "name": "stdout",
     "output_type": "stream",
     "text": [
      "Dog name is Rocky and weight is 4 and breed is German\n"
     ]
    }
   ],
   "source": [
    "#SINGLE LEVEL INHERITANCE\n",
    "class Animal:\n",
    "    def __init__(self,name,weight):\n",
    "        self.name=name\n",
    "        self.weight=weight\n",
    "class Dog(Animal):\n",
    "    def __init__(self,name,weight,breed):\n",
    "        super().__init__(name,weight)\n",
    "        self.breed=breed\n",
    "    def displayData(self):\n",
    "        print(f'Dog name is {self.name} and weight is {self.weight} and breed is {self.breed}')\n",
    "dog = Dog(\"Rocky\",4,\"German\")\n",
    "dog.displayData()"
   ]
  },
  {
   "cell_type": "code",
   "execution_count": 6,
   "id": "e963910b",
   "metadata": {},
   "outputs": [
    {
     "name": "stdout",
     "output_type": "stream",
     "text": [
      "Nmae is :Raj Age is : Raj\n",
      "Initialized teacher : Raj\n",
      "Name is : Raj Age is : 45\n",
      "Salary is : 250000\n"
     ]
    }
   ],
   "source": [
    "#OVERRIDING - RUN TIME\n",
    "class SchoolMember:\n",
    "    def __init__(self,name,age):\n",
    "        self.name=name\n",
    "        self.age=age\n",
    "        print(f'Nmae is :{self.name} Age is : {self.name}')\n",
    "    def tell(self):\n",
    "        print(f'Name is : {self.name} Age is : {self.age}')\n",
    "class Teacher(SchoolMember):\n",
    "    def __init__(self,name,age,salary):\n",
    "        super().__init__(name,age)\n",
    "        self.salary=salary\n",
    "        print(f'Initialized teacher : {self.name}')\n",
    "    def tell(self):\n",
    "        SchoolMember.tell(self)\n",
    "        print(f'Salary is : {self.salary}')\n",
    "class Student(SchoolMember):\n",
    "    def __init__(self,name,age,marks):\n",
    "        super().__init__(name,age)\n",
    "        self.marks=marks\n",
    "        print(f'Initialize students : {self.name}')\n",
    "    def tell(self):\n",
    "        SchoolMember.tell(self)\n",
    "        print(f'Marks of students is : {self.marks}')\n",
    "class Counsellor(SchoolMember):\n",
    "    def __init__(self,name,age):\n",
    "        SchoolMember.__init__(name,age)\n",
    "class Principal(SchoolMember):\n",
    "    def __init__(self,name,age):\n",
    "        super().__init__(name,age)\n",
    "class Nurse(SchoolMember):\n",
    "    def __init__(self,name,age,phone):\n",
    "        SchoolMember.__init__(self,name,age)\n",
    "        self.phone=phone\n",
    "        \n",
    "t = Teacher(\"Raj\",45,250000)\n",
    "t.tell()"
   ]
  },
  {
   "cell_type": "code",
   "execution_count": null,
   "id": "c227d5e0",
   "metadata": {},
   "outputs": [],
   "source": []
  },
  {
   "cell_type": "code",
   "execution_count": null,
   "id": "c6715f4b",
   "metadata": {},
   "outputs": [],
   "source": []
  }
 ],
 "metadata": {
  "kernelspec": {
   "display_name": "Python 3 (ipykernel)",
   "language": "python",
   "name": "python3"
  },
  "language_info": {
   "codemirror_mode": {
    "name": "ipython",
    "version": 3
   },
   "file_extension": ".py",
   "mimetype": "text/x-python",
   "name": "python",
   "nbconvert_exporter": "python",
   "pygments_lexer": "ipython3",
   "version": "3.10.9"
  }
 },
 "nbformat": 4,
 "nbformat_minor": 5
}
