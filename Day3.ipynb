{
 "cells": [
  {
   "cell_type": "code",
   "execution_count": 2,
   "id": "d09cf924",
   "metadata": {},
   "outputs": [
    {
     "name": "stdout",
     "output_type": "stream",
     "text": [
      "What is your Gender : female\n",
      "Your Gender is  female\n",
      "What type of movie you like hollywood/bollywood : g\n",
      "you selected g\n"
     ]
    }
   ],
   "source": [
    "a = input(\"What is your Gender : \")\n",
    "print('Your Gender is ',a)\n",
    "if(a==\"Male\" or a==\"MALE\" or a==\"male\"):\n",
    "        b = input(\"What is your age : \")\n",
    "        print('Your age is ',b)\n",
    "elif(a==\"Female\" or a==\"FEMALE\" or a==\"female\"):\n",
    "    c=input(\"What type of movie you like hollywood/bollywood : \")\n",
    "    print('you selected',c)\n",
    "    if(c==\"bollywood\" or c==\"BOLLYWOOD\" or c==\"Bollywood\" or c==\"HOLLYWOOD\" or c==\"hollywood\" or c==\"Hollywood\"):\n",
    "        d = input(\"Which is that movie : \")\n",
    "        print(d)\n",
    "else:\n",
    "    print(\"Entered wrong input\")"
   ]
  },
  {
   "cell_type": "code",
   "execution_count": null,
   "id": "09f3eea0",
   "metadata": {},
   "outputs": [],
   "source": []
  }
 ],
 "metadata": {
  "kernelspec": {
   "display_name": "Python 3 (ipykernel)",
   "language": "python",
   "name": "python3"
  },
  "language_info": {
   "codemirror_mode": {
    "name": "ipython",
    "version": 3
   },
   "file_extension": ".py",
   "mimetype": "text/x-python",
   "name": "python",
   "nbconvert_exporter": "python",
   "pygments_lexer": "ipython3",
   "version": "3.10.9"
  }
 },
 "nbformat": 4,
 "nbformat_minor": 5
}
