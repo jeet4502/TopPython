{
 "cells": [
  {
   "cell_type": "code",
   "execution_count": 6,
   "id": "1428a5f4",
   "metadata": {},
   "outputs": [
    {
     "name": "stdout",
     "output_type": "stream",
     "text": [
      "[5, 7, 9]\n"
     ]
    }
   ],
   "source": [
    "list1 = [1,2,3]\n",
    "list2 = [4,5,6]\n",
    "list3 = []\n",
    "for i in range(3):\n",
    "    list = list1[i]+list2[i]\n",
    "    list3.append(list)\n",
    "print(list3)"
   ]
  },
  {
   "cell_type": "code",
   "execution_count": 7,
   "id": "64d7f6fb",
   "metadata": {},
   "outputs": [],
   "source": [
    "list1 = [1,2,3,7]\n",
    "list2 = [4,5,6]\n",
    "list3 = []\n",
    "data_list=len(list1)<len(list2) and list1 or list2"
   ]
  },
  {
   "cell_type": "code",
   "execution_count": 9,
   "id": "4e94e7af",
   "metadata": {},
   "outputs": [
    {
     "name": "stdout",
     "output_type": "stream",
     "text": [
      "Result of addition is :  [5, 7, 9]\n"
     ]
    }
   ],
   "source": [
    "for i in range(0,len(data_list)):\n",
    "    list3.append(list1[i]+list2[i])\n",
    "\n",
    "print(\"Result of addition is : \",str(list3))"
   ]
  },
  {
   "cell_type": "code",
   "execution_count": 10,
   "id": "93aa3e4e",
   "metadata": {},
   "outputs": [],
   "source": [
    "list1 = [1,2,3,7]\n",
    "list2 = [4,5,6]\n",
    "list3 = []\n",
    "data_list=len(list1)<len(list2) and list1 or list2"
   ]
  },
  {
   "cell_type": "code",
   "execution_count": 12,
   "id": "ee458f07",
   "metadata": {},
   "outputs": [
    {
     "name": "stdout",
     "output_type": "stream",
     "text": [
      "[5, 7, 9]\n"
     ]
    }
   ],
   "source": [
    "res = [list1[i]+list2[i] for i in range (len(data_list))] #list comprehension\n",
    "print(res)"
   ]
  },
  {
   "cell_type": "code",
   "execution_count": 2,
   "id": "d719e1b8",
   "metadata": {},
   "outputs": [
    {
     "name": "stdout",
     "output_type": "stream",
     "text": [
      "10\n",
      "20\n",
      "30\n",
      "40\n",
      "50\n",
      "<class 'array.array'>\n"
     ]
    }
   ],
   "source": [
    "#How to intialize array in python without use of numpy\n",
    "from array import array\n",
    "array1 = array('i',[10,20,30,40,50])\n",
    "for x in array1:\n",
    "    print(x)\n",
    "print(type(array1))"
   ]
  },
  {
   "cell_type": "code",
   "execution_count": 3,
   "id": "459e48cb",
   "metadata": {},
   "outputs": [
    {
     "name": "stdout",
     "output_type": "stream",
     "text": [
      "[30, 28, 24, 22]\n"
     ]
    }
   ],
   "source": [
    "list1=[25,26,20,21]\n",
    "list2=[5,2,4,1,6,7]\n",
    "\n",
    "result = [sum(i) for i in zip(list1,list2)]\n",
    "print(result)"
   ]
  },
  {
   "cell_type": "code",
   "execution_count": 4,
   "id": "d84a8764",
   "metadata": {},
   "outputs": [
    {
     "name": "stdout",
     "output_type": "stream",
     "text": [
      "[ 6  9 12]\n",
      "[6, 9, 12]\n"
     ]
    }
   ],
   "source": [
    "import numpy as np\n",
    "n1 = np.array([2,4,5])\n",
    "n2 = np.array([4,5,7])\n",
    "result = n1+n2\n",
    "print(result)\n",
    "print(result.tolist())"
   ]
  },
  {
   "cell_type": "code",
   "execution_count": null,
   "id": "75b48714",
   "metadata": {},
   "outputs": [],
   "source": [
    "#Exception Handling\n",
    "#Exception: checked, unchecked\n",
    "#Error: File Not Found:404, Server 500 internal server error\n",
    "# try, except, else, finally"
   ]
  }
 ],
 "metadata": {
  "kernelspec": {
   "display_name": "Python 3 (ipykernel)",
   "language": "python",
   "name": "python3"
  },
  "language_info": {
   "codemirror_mode": {
    "name": "ipython",
    "version": 3
   },
   "file_extension": ".py",
   "mimetype": "text/x-python",
   "name": "python",
   "nbconvert_exporter": "python",
   "pygments_lexer": "ipython3",
   "version": "3.10.9"
  }
 },
 "nbformat": 4,
 "nbformat_minor": 5
}
