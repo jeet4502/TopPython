{
 "cells": [
  {
   "cell_type": "code",
   "execution_count": 1,
   "id": "7d807a59",
   "metadata": {},
   "outputs": [
    {
     "name": "stdout",
     "output_type": "stream",
     "text": [
      "['__add__', '__class__', '__class_getitem__', '__contains__', '__delattr__', '__delitem__', '__dir__', '__doc__', '__eq__', '__format__', '__ge__', '__getattribute__', '__getitem__', '__gt__', '__hash__', '__iadd__', '__imul__', '__init__', '__init_subclass__', '__iter__', '__le__', '__len__', '__lt__', '__mul__', '__ne__', '__new__', '__reduce__', '__reduce_ex__', '__repr__', '__reversed__', '__rmul__', '__setattr__', '__setitem__', '__sizeof__', '__str__', '__subclasshook__', 'append', 'clear', 'copy', 'count', 'extend', 'index', 'insert', 'pop', 'remove', 'reverse', 'sort']\n"
     ]
    }
   ],
   "source": [
    "#MAP\n",
    "#FILTER\n",
    "numbers=[1,2,3,4,5,6]\n",
    "print(dir(numbers))"
   ]
  },
  {
   "cell_type": "code",
   "execution_count": 3,
   "id": "27a4ebed",
   "metadata": {},
   "outputs": [
    {
     "name": "stdout",
     "output_type": "stream",
     "text": [
      "[1, 4, 9, 16, 25, 36]\n"
     ]
    }
   ],
   "source": [
    "numbers=[1,2,3,4,5,6]\n",
    "res=[]\n",
    "for i in numbers:\n",
    "    res.append(i**2)\n",
    "print(res)"
   ]
  },
  {
   "cell_type": "code",
   "execution_count": 6,
   "id": "c27b1e4b",
   "metadata": {},
   "outputs": [
    {
     "name": "stdout",
     "output_type": "stream",
     "text": [
      "[1, 4, 9, 16, 25, 36]\n"
     ]
    }
   ],
   "source": [
    "def squareNumbers(number):\n",
    "    return number **2\n",
    "numbers=[1,2,3,4,5,6]\n",
    "square=map(squareNumbers,numbers)\n",
    "print(list(square))"
   ]
  },
  {
   "cell_type": "code",
   "execution_count": 7,
   "id": "70512988",
   "metadata": {},
   "outputs": [],
   "source": [
    "name_data=[\"4\",\"5\",\"6\",\"7\",\"8\"]\n",
    "int_nums=map(int,name_data)"
   ]
  },
  {
   "cell_type": "code",
   "execution_count": 8,
   "id": "117b4f5f",
   "metadata": {},
   "outputs": [
    {
     "name": "stdout",
     "output_type": "stream",
     "text": [
      "[4, 5, 6, 7, 8]\n"
     ]
    }
   ],
   "source": [
    "print(list(int_nums))"
   ]
  },
  {
   "cell_type": "code",
   "execution_count": 9,
   "id": "d78ab3f4",
   "metadata": {},
   "outputs": [],
   "source": [
    "float_nums=map(float,name_data)"
   ]
  },
  {
   "cell_type": "code",
   "execution_count": 10,
   "id": "3bff9085",
   "metadata": {},
   "outputs": [
    {
     "name": "stdout",
     "output_type": "stream",
     "text": [
      "[4.0, 5.0, 6.0, 7.0, 8.0]\n"
     ]
    }
   ],
   "source": [
    "print(list(float_nums))"
   ]
  },
  {
   "cell_type": "code",
   "execution_count": 11,
   "id": "98c52962",
   "metadata": {},
   "outputs": [],
   "source": [
    "numbers=[-5,-8,-6,-2,0,1,2,3,4]"
   ]
  },
  {
   "cell_type": "code",
   "execution_count": 12,
   "id": "bebe7d5e",
   "metadata": {},
   "outputs": [],
   "source": [
    "abs_value=map(abs,numbers)"
   ]
  },
  {
   "cell_type": "code",
   "execution_count": 14,
   "id": "09667c0b",
   "metadata": {},
   "outputs": [
    {
     "name": "stdout",
     "output_type": "stream",
     "text": [
      "[5, 8, 6, 2, 0, 1, 2, 3, 4]\n"
     ]
    }
   ],
   "source": [
    "print(list(abs_value))"
   ]
  },
  {
   "cell_type": "code",
   "execution_count": 17,
   "id": "4a061d7e",
   "metadata": {},
   "outputs": [
    {
     "name": "stdout",
     "output_type": "stream",
     "text": [
      "[7, 2, 4, 5]\n"
     ]
    }
   ],
   "source": [
    "words=[\"Welcome\",\"To\",\"Miee\",\"World\"]\n",
    "print(list(map(len,words)))"
   ]
  },
  {
   "cell_type": "code",
   "execution_count": 18,
   "id": "7a131ffa",
   "metadata": {},
   "outputs": [
    {
     "data": {
      "text/plain": [
       "[-5, -8, -6, -2, 0, 1, 2, 3, 4]"
      ]
     },
     "execution_count": 18,
     "metadata": {},
     "output_type": "execute_result"
    }
   ],
   "source": [
    "numbers"
   ]
  },
  {
   "cell_type": "code",
   "execution_count": 24,
   "id": "63bd5ee6",
   "metadata": {},
   "outputs": [
    {
     "ename": "SyntaxError",
     "evalue": "invalid syntax (678365083.py, line 1)",
     "output_type": "error",
     "traceback": [
      "\u001b[1;36m  Cell \u001b[1;32mIn[24], line 1\u001b[1;36m\u001b[0m\n\u001b[1;33m    res = map(lambda numbers**2)\u001b[0m\n\u001b[1;37m                            ^\u001b[0m\n\u001b[1;31mSyntaxError\u001b[0m\u001b[1;31m:\u001b[0m invalid syntax\n"
     ]
    }
   ],
   "source": [
    "res = map(lambda numbers**2)\n",
    "print(res)"
   ]
  },
  {
   "cell_type": "code",
   "execution_count": 2,
   "id": "d4056b49",
   "metadata": {},
   "outputs": [],
   "source": [
    "ls = [\"Processing\",\"Strings\",\"For\",\"Python\",\"Data\"]"
   ]
  },
  {
   "cell_type": "code",
   "execution_count": 3,
   "id": "9b71f4f5",
   "metadata": {},
   "outputs": [
    {
     "name": "stdout",
     "output_type": "stream",
     "text": [
      "ProcessingStringsForPythonData\n"
     ]
    }
   ],
   "source": [
    "st=\"\"\n",
    "for i in ls:\n",
    "    st+=i\n",
    "print(st)"
   ]
  },
  {
   "cell_type": "code",
   "execution_count": 4,
   "id": "4faba235",
   "metadata": {},
   "outputs": [
    {
     "name": "stdout",
     "output_type": "stream",
     "text": [
      "<class 'str'>\n"
     ]
    }
   ],
   "source": [
    "print(type(st))"
   ]
  },
  {
   "cell_type": "code",
   "execution_count": 5,
   "id": "362bd376",
   "metadata": {},
   "outputs": [
    {
     "name": "stdout",
     "output_type": "stream",
     "text": [
      "PROCESSINGSTRINGSFORPYTHONDATA\n"
     ]
    }
   ],
   "source": [
    "x = st.upper()\n",
    "print(x)"
   ]
  },
  {
   "cell_type": "code",
   "execution_count": 6,
   "id": "fdf13ae4",
   "metadata": {},
   "outputs": [
    {
     "name": "stdout",
     "output_type": "stream",
     "text": [
      "processingstringsforpythondata\n"
     ]
    }
   ],
   "source": [
    "y = st.lower()\n",
    "print(y)"
   ]
  },
  {
   "cell_type": "code",
   "execution_count": 7,
   "id": "8875ca0e",
   "metadata": {},
   "outputs": [
    {
     "name": "stdout",
     "output_type": "stream",
     "text": [
      "PROCESSINGSTRINGSFORPYTHONDATA\n"
     ]
    }
   ],
   "source": [
    "final=lambda x:x\n",
    "print(x)"
   ]
  },
  {
   "cell_type": "code",
   "execution_count": 9,
   "id": "27b18008",
   "metadata": {},
   "outputs": [],
   "source": [
    "data=[\"Processing\",\"Strings\",\"For\",\"Python\",\"Data\"]"
   ]
  },
  {
   "cell_type": "code",
   "execution_count": 10,
   "id": "3654546b",
   "metadata": {},
   "outputs": [
    {
     "data": {
      "text/plain": [
       "['PROCESSING', 'STRINGS', 'FOR', 'PYTHON', 'DATA']"
      ]
     },
     "execution_count": 10,
     "metadata": {},
     "output_type": "execute_result"
    }
   ],
   "source": [
    "list(map(lambda x : x.upper(), data))"
   ]
  },
  {
   "cell_type": "code",
   "execution_count": 11,
   "id": "62252186",
   "metadata": {},
   "outputs": [
    {
     "data": {
      "text/plain": [
       "['processing', 'strings', 'for', 'python', 'data']"
      ]
     },
     "execution_count": 11,
     "metadata": {},
     "output_type": "execute_result"
    }
   ],
   "source": [
    "list(map(str.lower,data))"
   ]
  },
  {
   "cell_type": "code",
   "execution_count": 12,
   "id": "ad2d8ff2",
   "metadata": {},
   "outputs": [
    {
     "name": "stdout",
     "output_type": "stream",
     "text": [
      "5\n"
     ]
    }
   ],
   "source": [
    "print(len(data))"
   ]
  },
  {
   "cell_type": "code",
   "execution_count": 14,
   "id": "082bf7fd",
   "metadata": {},
   "outputs": [
    {
     "name": "stdout",
     "output_type": "stream",
     "text": [
      "[10, 7, 3, 6, 4]\n"
     ]
    }
   ],
   "source": [
    "a=print(list(map(len,data)))"
   ]
  },
  {
   "cell_type": "code",
   "execution_count": 25,
   "id": "458338d7",
   "metadata": {},
   "outputs": [
    {
     "name": "stdout",
     "output_type": "stream",
     "text": [
      "Processing\n",
      "Strings\n"
     ]
    }
   ],
   "source": [
    "for i in data:\n",
    "    if(len(i)>=7):\n",
    "        print(i)\n"
   ]
  },
  {
   "cell_type": "code",
   "execution_count": 27,
   "id": "d76a9b61",
   "metadata": {},
   "outputs": [
    {
     "name": "stdout",
     "output_type": "stream",
     "text": [
      "['Processing', 'Strings']\n"
     ]
    }
   ],
   "source": [
    "x = list(filter(lambda i:len(i)>=7,data))\n",
    "print(x)"
   ]
  },
  {
   "cell_type": "code",
   "execution_count": null,
   "id": "ee662e89",
   "metadata": {},
   "outputs": [],
   "source": []
  }
 ],
 "metadata": {
  "kernelspec": {
   "display_name": "Python 3 (ipykernel)",
   "language": "python",
   "name": "python3"
  },
  "language_info": {
   "codemirror_mode": {
    "name": "ipython",
    "version": 3
   },
   "file_extension": ".py",
   "mimetype": "text/x-python",
   "name": "python",
   "nbconvert_exporter": "python",
   "pygments_lexer": "ipython3",
   "version": "3.10.9"
  }
 },
 "nbformat": 4,
 "nbformat_minor": 5
}
