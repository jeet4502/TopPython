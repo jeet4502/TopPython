{
 "cells": [
  {
   "cell_type": "code",
   "execution_count": 11,
   "id": "5a3f2bf7",
   "metadata": {},
   "outputs": [
    {
     "name": "stdout",
     "output_type": "stream",
     "text": [
      "Hello World---RamPython\n",
      "Hello World---Ram\n",
      "Python\n",
      "2506670474224\n",
      "2506750851664\n",
      "2506751871984\n",
      "140715946887376\n",
      "<class 'int'>\n",
      "<class 'float'>\n",
      "<class 'str'>\n",
      "<class 'bool'>\n",
      "Enter your name : JEET DESAI\n",
      "<class 'str'>\n",
      "2506779883248\n",
      "JEET DESAI\n",
      "Enter first number: 15\n",
      "Enter second number: 10\n",
      "Addition of number is : 1510\n",
      "<class 'str'>\n",
      "<class 'str'>\n",
      "2506779875760\n",
      "2506779999792\n"
     ]
    }
   ],
   "source": [
    "#print(object,sep='',end='\\n',file=none,flush=false)\n",
    "print(\"Hello World\",\"Ram\",sep=\"---\",end=\"\")\n",
    "print(\"Python\")\n",
    "print(\"Hello World\",\"Ram\",sep=\"---\")\n",
    "print(\"Python\")\n",
    "\n",
    "#for printing address we use id\n",
    "print(id(25))\n",
    "print(id(2.56))\n",
    "print(id(\"Ram\"))\n",
    "print(id(True))\n",
    "\n",
    "print(type(25))\n",
    "print(type(2.56))\n",
    "print(type(\"Ram\"))\n",
    "print(type(True))\n",
    "\n",
    "#For taking input from the user we use input\n",
    "name = input(\"Enter your name : \")\n",
    "print(type(name))\n",
    "print(id(name))\n",
    "print(name)\n",
    "\n",
    "n1 = input(\"Enter first number: \")\n",
    "n2 = input(\"Enter second number: \")\n",
    "add= n1+n2\n",
    "print(\"Addition of number is :\",add)\n",
    "\n",
    "print(type(n1))\n",
    "print(type(n2))\n",
    "\n",
    "print(id(n1))\n",
    "print(id(n2))"
   ]
  },
  {
   "cell_type": "code",
   "execution_count": 12,
   "id": "b8ed597c",
   "metadata": {},
   "outputs": [
    {
     "name": "stdout",
     "output_type": "stream",
     "text": [
      "Enter the radius : 10\n",
      "Enter the lenght : 5\n",
      "Enter the breadth : 4\n",
      "Enter the height : 2\n",
      "Area of circle is  314.0\n",
      "Area of triangle is  4.0\n",
      "Volume of sphere is 4186.67\n",
      "Volume of cyclinder is  628.0\n",
      "Volume of cone is 209.33\n"
     ]
    }
   ],
   "source": [
    "pie=3.14\n",
    "r = int(input(\"Enter the radius : \"))\n",
    "l = int(input(\"Enter the lenght : \"))\n",
    "b = int(input(\"Enter the breadth : \"))\n",
    "h = int(input(\"Enter the height : \"))\n",
    "AC= pie*r*r\n",
    "print(\"Area of circle is \",AC)\n",
    "AT = b*h*1/2\n",
    "print(\"Area of triangle is \",AT)\n",
    "VS = pie*r*r*r*4/3\n",
    "print(\"Volume of sphere is %.2f\"%VS)\n",
    "VCy = pie*r*r*h\n",
    "print(\"Volume of cyclinder is \",VCy)\n",
    "VCo = pie*r*r*h*1/3\n",
    "print(\"Volume of cone is %.2f\"%VCo)\n"
   ]
  },
  {
   "cell_type": "code",
   "execution_count": null,
   "id": "8835db98",
   "metadata": {},
   "outputs": [],
   "source": []
  }
 ],
 "metadata": {
  "kernelspec": {
   "display_name": "Python 3 (ipykernel)",
   "language": "python",
   "name": "python3"
  },
  "language_info": {
   "codemirror_mode": {
    "name": "ipython",
    "version": 3
   },
   "file_extension": ".py",
   "mimetype": "text/x-python",
   "name": "python",
   "nbconvert_exporter": "python",
   "pygments_lexer": "ipython3",
   "version": "3.10.9"
  }
 },
 "nbformat": 4,
 "nbformat_minor": 5
}
