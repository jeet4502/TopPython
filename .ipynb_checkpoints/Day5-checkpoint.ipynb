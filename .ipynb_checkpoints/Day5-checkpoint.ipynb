{
 "cells": [
  {
   "cell_type": "code",
   "execution_count": 3,
   "id": "6e9632b8",
   "metadata": {},
   "outputs": [
    {
     "name": "stdout",
     "output_type": "stream",
     "text": [
      "ENTER YOUR NAME Jeet\n",
      "Female\n"
     ]
    }
   ],
   "source": [
    "#STRINGS\n",
    "#Sequence of characters\n",
    "name = input(\"ENTER YOUR NAME \")\n",
    "if(name==\"jeet\"):\n",
    "    print('jeet is male')\n",
    "else:\n",
    "    print(\"Female\")\n"
   ]
  },
  {
   "cell_type": "code",
   "execution_count": 4,
   "id": "df2463ef",
   "metadata": {},
   "outputs": [
    {
     "data": {
      "text/plain": [
       "'welcome to python programming'"
      ]
     },
     "execution_count": 4,
     "metadata": {},
     "output_type": "execute_result"
    }
   ],
   "source": [
    "#STRING METHODS\n",
    "name = \"Welcome to Python Programming\"\n",
    "name.lower()"
   ]
  },
  {
   "cell_type": "code",
   "execution_count": 5,
   "id": "47819baa",
   "metadata": {},
   "outputs": [
    {
     "data": {
      "text/plain": [
       "'WELCOME TO PYTHON PROGRAMMING'"
      ]
     },
     "execution_count": 5,
     "metadata": {},
     "output_type": "execute_result"
    }
   ],
   "source": [
    "name.upper()"
   ]
  },
  {
   "cell_type": "code",
   "execution_count": 6,
   "id": "3fa3ebb3",
   "metadata": {},
   "outputs": [
    {
     "data": {
      "text/plain": [
       "'Welcome to python programming'"
      ]
     },
     "execution_count": 6,
     "metadata": {},
     "output_type": "execute_result"
    }
   ],
   "source": [
    "name.capitalize()"
   ]
  },
  {
   "cell_type": "code",
   "execution_count": 8,
   "id": "832c811f",
   "metadata": {},
   "outputs": [
    {
     "data": {
      "text/plain": [
       "'Welcome to Python Programming'"
      ]
     },
     "execution_count": 8,
     "metadata": {},
     "output_type": "execute_result"
    }
   ],
   "source": [
    "name"
   ]
  },
  {
   "cell_type": "code",
   "execution_count": 9,
   "id": "7d93fd17",
   "metadata": {},
   "outputs": [
    {
     "data": {
      "text/plain": [
       "2"
      ]
     },
     "execution_count": 9,
     "metadata": {},
     "output_type": "execute_result"
    }
   ],
   "source": [
    "name.count('P')"
   ]
  },
  {
   "cell_type": "code",
   "execution_count": 10,
   "id": "3c975851",
   "metadata": {},
   "outputs": [
    {
     "data": {
      "text/plain": [
       "11"
      ]
     },
     "execution_count": 10,
     "metadata": {},
     "output_type": "execute_result"
    }
   ],
   "source": [
    "name.find('P')"
   ]
  },
  {
   "cell_type": "code",
   "execution_count": 11,
   "id": "6d1753ad",
   "metadata": {},
   "outputs": [
    {
     "data": {
      "text/plain": [
       "['Welcome', 'to', 'Python', 'Programming']"
      ]
     },
     "execution_count": 11,
     "metadata": {},
     "output_type": "execute_result"
    }
   ],
   "source": [
    "name.split()"
   ]
  },
  {
   "cell_type": "code",
   "execution_count": 12,
   "id": "b8a27122",
   "metadata": {},
   "outputs": [
    {
     "name": "stdout",
     "output_type": "stream",
     "text": [
      "W\n",
      "e\n",
      "l\n",
      "c\n",
      "o\n",
      "m\n",
      "e\n",
      " \n",
      "t\n",
      "o\n",
      " \n",
      "P\n",
      "y\n",
      "t\n",
      "h\n",
      "o\n",
      "n\n",
      " \n",
      "P\n",
      "r\n",
      "o\n",
      "g\n",
      "r\n",
      "a\n",
      "m\n",
      "m\n",
      "i\n",
      "n\n",
      "g\n"
     ]
    }
   ],
   "source": [
    "for i in name:\n",
    "    print(i)"
   ]
  },
  {
   "cell_type": "code",
   "execution_count": 14,
   "id": "6a4adeb5",
   "metadata": {},
   "outputs": [
    {
     "name": "stdout",
     "output_type": "stream",
     "text": [
      "Welcome\n",
      "to\n",
      "Python\n",
      "Programming\n"
     ]
    }
   ],
   "source": [
    "for i in name.split():\n",
    "    print(i)"
   ]
  },
  {
   "cell_type": "code",
   "execution_count": 16,
   "id": "0067fb4b",
   "metadata": {},
   "outputs": [
    {
     "data": {
      "text/plain": [
       "'Jeet     '"
      ]
     },
     "execution_count": 16,
     "metadata": {},
     "output_type": "execute_result"
    }
   ],
   "source": [
    "name1 = \"     Jeet     \"\n",
    "name1.lstrip()"
   ]
  },
  {
   "cell_type": "code",
   "execution_count": 17,
   "id": "be842539",
   "metadata": {},
   "outputs": [
    {
     "data": {
      "text/plain": [
       "'     Jeet'"
      ]
     },
     "execution_count": 17,
     "metadata": {},
     "output_type": "execute_result"
    }
   ],
   "source": [
    "name1.rstrip()"
   ]
  },
  {
   "cell_type": "code",
   "execution_count": 19,
   "id": "6b186402",
   "metadata": {},
   "outputs": [
    {
     "data": {
      "text/plain": [
       "'Jeet'"
      ]
     },
     "execution_count": 19,
     "metadata": {},
     "output_type": "execute_result"
    }
   ],
   "source": [
    "name1.strip()"
   ]
  },
  {
   "cell_type": "code",
   "execution_count": 21,
   "id": "cad6cd2d",
   "metadata": {},
   "outputs": [
    {
     "data": {
      "text/plain": [
       "False"
      ]
     },
     "execution_count": 21,
     "metadata": {},
     "output_type": "execute_result"
    }
   ],
   "source": [
    "name.isnumeric()"
   ]
  },
  {
   "cell_type": "code",
   "execution_count": 22,
   "id": "6230bff0",
   "metadata": {},
   "outputs": [
    {
     "data": {
      "text/plain": [
       "False"
      ]
     },
     "execution_count": 22,
     "metadata": {},
     "output_type": "execute_result"
    }
   ],
   "source": [
    "name.isalpha()"
   ]
  },
  {
   "cell_type": "code",
   "execution_count": 23,
   "id": "43122311",
   "metadata": {},
   "outputs": [
    {
     "data": {
      "text/plain": [
       "'Welcome to Java Programming'"
      ]
     },
     "execution_count": 23,
     "metadata": {},
     "output_type": "execute_result"
    }
   ],
   "source": [
    "name.replace(\"Python\",\"Java\")"
   ]
  },
  {
   "cell_type": "code",
   "execution_count": 24,
   "id": "27d4b858",
   "metadata": {},
   "outputs": [
    {
     "data": {
      "text/plain": [
       "'Welcome To Python Programming'"
      ]
     },
     "execution_count": 24,
     "metadata": {},
     "output_type": "execute_result"
    }
   ],
   "source": [
    "name.title()"
   ]
  },
  {
   "cell_type": "code",
   "execution_count": 25,
   "id": "b31769d2",
   "metadata": {},
   "outputs": [
    {
     "data": {
      "text/plain": [
       "'welcome to python programming'"
      ]
     },
     "execution_count": 25,
     "metadata": {},
     "output_type": "execute_result"
    }
   ],
   "source": [
    "name.casefold()#Convert string into low case"
   ]
  },
  {
   "cell_type": "code",
   "execution_count": 29,
   "id": "f1caa233",
   "metadata": {},
   "outputs": [
    {
     "name": "stdout",
     "output_type": "stream",
     "text": [
      "          Welcome to Python Programming           \n"
     ]
    }
   ],
   "source": [
    "x = name.center(50)#Returns a center string\n",
    "print(x)"
   ]
  },
  {
   "cell_type": "code",
   "execution_count": 30,
   "id": "3d7f1034",
   "metadata": {},
   "outputs": [
    {
     "name": "stdout",
     "output_type": "stream",
     "text": [
      "b'Welcome to Python Programming'\n"
     ]
    }
   ],
   "source": [
    "y = name.encode()#Returns encoded version of string\n",
    "print(y)"
   ]
  },
  {
   "cell_type": "code",
   "execution_count": 31,
   "id": "c5b28014",
   "metadata": {},
   "outputs": [
    {
     "name": "stdout",
     "output_type": "stream",
     "text": [
      "False\n"
     ]
    }
   ],
   "source": [
    "z = name.endswith(\".\")#Returns true if the string ends with the specified value\n",
    "print(z)"
   ]
  },
  {
   "cell_type": "code",
   "execution_count": 36,
   "id": "bc3d7f90",
   "metadata": {},
   "outputs": [
    {
     "name": "stdout",
     "output_type": "stream",
     "text": [
      "J    e    e    t\n"
     ]
    }
   ],
   "source": [
    "name2 = \"J\\te\\te\\tt\"#Sets the tab size of the string\n",
    "a = name2.expandtabs(5)\n",
    "print(a)"
   ]
  },
  {
   "cell_type": "code",
   "execution_count": 37,
   "id": "6d2d43dc",
   "metadata": {},
   "outputs": [
    {
     "name": "stdout",
     "output_type": "stream",
     "text": [
      "For only 49.00 dollars!\n"
     ]
    }
   ],
   "source": [
    "txt = \"For only {price:.2f} dollars!\"#Formats specified values in a string\n",
    "print(txt.format(price = 49))\n"
   ]
  },
  {
   "cell_type": "code",
   "execution_count": 38,
   "id": "43cc8180",
   "metadata": {},
   "outputs": [
    {
     "data": {
      "text/plain": [
       "'Welcome To Python Programming'"
      ]
     },
     "execution_count": 38,
     "metadata": {},
     "output_type": "execute_result"
    }
   ],
   "source": [
    "name.title()#Converts the first character of each word to upper case"
   ]
  },
  {
   "cell_type": "code",
   "execution_count": 40,
   "id": "ff71f502",
   "metadata": {},
   "outputs": [
    {
     "name": "stdout",
     "output_type": "stream",
     "text": [
      "Jeet#Harsh#Tirth\n"
     ]
    }
   ],
   "source": [
    "tuples = (\"Jeet\",\"Harsh\",\"Tirth\")#Converts the elements of an iterable into a string\n",
    "b = \"#\".join(tuples)\n",
    "print(b)"
   ]
  },
  {
   "cell_type": "code",
   "execution_count": 41,
   "id": "3b8f123a",
   "metadata": {},
   "outputs": [
    {
     "name": "stdout",
     "output_type": "stream",
     "text": [
      "wELCOME TO pYTHON pROGRAMMING\n"
     ]
    }
   ],
   "source": [
    "c = name.swapcase()#Swaps cases, lower case becomes upper case and vice versa\n",
    "print(c)"
   ]
  },
  {
   "cell_type": "code",
   "execution_count": null,
   "id": "a24c765d",
   "metadata": {},
   "outputs": [],
   "source": [
    "gender = input(\"Enter your gender : male/female \" )\n",
    "gender = gender.lower()\n",
    "if(gender == \"male\"):\n",
    "    print(\"You are male\")\n",
    "    age = int(input(\"Enter your age : \"))\n",
    "    if(age<18):\n",
    "        print(\"Your age is less than 18 years \")\n",
    "        percentage = 10\n",
    "    elif(age>=18):\n",
    "        print(\"Your age is greater than 18 years\")\n",
    "        percentage = 5\n",
    "elif(gender==\"female\"):\n",
    "    print(\"you are female\")\n",
    "    choice = input(\"What you like webseries/movies\")\n",
    "    choice=choice.lower()\n",
    "    if(choice==\"webseries\"):\n",
    "        print(\"You like web series\")\n",
    "        percentage = 20\n",
    "    else:\n",
    "        print(\"You like movies\")\n",
    "        percentage = 8\n",
    "else:\n",
    "    print(\"Tum jo nhi hoo\")\n",
    "    \n",
    "    \n",
    "price = int(input(\"Enter the price : \"))\n",
    "discounted_price = price * percentage*0.01\n",
    "actual_price = price - discounted_price\n",
    "print(\"Discounted price is \",discounted_price)\n",
    "print(\"Actual price is \",actual_price)"
   ]
  },
  {
   "cell_type": "code",
   "execution_count": null,
   "id": "47acba08",
   "metadata": {},
   "outputs": [],
   "source": []
  },
  {
   "cell_type": "code",
   "execution_count": null,
   "id": "140233d2",
   "metadata": {},
   "outputs": [],
   "source": []
  }
 ],
 "metadata": {
  "kernelspec": {
   "display_name": "Python 3 (ipykernel)",
   "language": "python",
   "name": "python3"
  },
  "language_info": {
   "codemirror_mode": {
    "name": "ipython",
    "version": 3
   },
   "file_extension": ".py",
   "mimetype": "text/x-python",
   "name": "python",
   "nbconvert_exporter": "python",
   "pygments_lexer": "ipython3",
   "version": "3.10.9"
  }
 },
 "nbformat": 4,
 "nbformat_minor": 5
}
