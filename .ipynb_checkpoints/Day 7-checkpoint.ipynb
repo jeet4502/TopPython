{
 "cells": [
  {
   "cell_type": "code",
   "execution_count": 1,
   "id": "8c89d85f",
   "metadata": {},
   "outputs": [
    {
     "name": "stdout",
     "output_type": "stream",
     "text": [
      "Enter your number : 1253\n",
      "The sum of number is  161\n",
      "It is not an armstrong number\n"
     ]
    }
   ],
   "source": [
    "#Program to check if a given number is an Armstrong number\n",
    "\n",
    "def calculation(count,rem,cube,result):\n",
    "#count = 0\n",
    "#rem=0\n",
    "#cube=0\n",
    "#result=0\n",
    "    x = int(input(\"Enter your number : \"))\n",
    "    temp=x\n",
    "    while(x>0):\n",
    "        rem=x%10\n",
    "        cube=rem*rem*rem\n",
    "        result=result+cube\n",
    "        x=x//10\n",
    "        \n",
    "    print(\"The sum of number is \",result)\n",
    "    return temp,result,count\n",
    "x,result,count=calculation(0,0,0,0)\n",
    "if(result==x):\n",
    "    print(\"It is an armstrong number\")\n",
    "else:\n",
    "    print(\"It is not an armstrong number\")"
   ]
  },
  {
   "cell_type": "code",
   "execution_count": null,
   "id": "57457c78",
   "metadata": {},
   "outputs": [],
   "source": [
    "#Python program to get the fibonacci series between 0 to 50\n",
    "def series():\n",
    "    a=int(input(\"Enter the first number of the series \"))\n",
    "    b=int(input(\"Enter the second number of the series \"))\n",
    "    n=int(input(\"Enter the  last number upto what range you want \"))\n",
    "    print(a)\n",
    "    print(b)\n",
    "    while(n-2):\n",
    "        c=a+b\n",
    "        a=b\n",
    "        b=c\n",
    "    if(c<=n):\n",
    "        print(c)\n",
    "    n=n-1\n",
    "series()\n",
    "    "
   ]
  },
  {
   "cell_type": "code",
   "execution_count": null,
   "id": "923fb04d",
   "metadata": {},
   "outputs": [],
   "source": [
    "#Python program to check the validity of password input by user\n",
    "# Minimum 8 to 15 characters\n",
    "#At least one number, one lower case, one uppercase and one special characters\n",
    "# Password cannot have space\n",
    "n = input(\"Enter your password : \")\n",
    "r = n.count(\"\")\n",
    "print(r)\n"
   ]
  },
  {
   "cell_type": "code",
   "execution_count": null,
   "id": "73577bd9",
   "metadata": {},
   "outputs": [],
   "source": []
  },
  {
   "cell_type": "code",
   "execution_count": null,
   "id": "5a50c872",
   "metadata": {},
   "outputs": [],
   "source": []
  }
 ],
 "metadata": {
  "kernelspec": {
   "display_name": "Python 3 (ipykernel)",
   "language": "python",
   "name": "python3"
  },
  "language_info": {
   "codemirror_mode": {
    "name": "ipython",
    "version": 3
   },
   "file_extension": ".py",
   "mimetype": "text/x-python",
   "name": "python",
   "nbconvert_exporter": "python",
   "pygments_lexer": "ipython3",
   "version": "3.10.9"
  }
 },
 "nbformat": 4,
 "nbformat_minor": 5
}
