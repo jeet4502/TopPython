{
 "cells": [
  {
   "cell_type": "code",
   "execution_count": 3,
   "id": "be25dc4f",
   "metadata": {},
   "outputs": [
    {
     "name": "stdout",
     "output_type": "stream",
     "text": [
      "Enter the number : 0\n",
      "The number is zero\n"
     ]
    }
   ],
   "source": [
    "#Write a Python program to check if a number is positive, negative or zero\n",
    "a = int(input(\"Enter the number : \"))\n",
    "if(a==0):\n",
    "    print(\"The number is zero\")\n",
    "elif(a<0):\n",
    "    print(\"The number is negative\")\n",
    "else:\n",
    "    print(\"The number is positive\")"
   ]
  },
  {
   "cell_type": "code",
   "execution_count": 16,
   "id": "75eead23",
   "metadata": {},
   "outputs": [
    {
     "name": "stdout",
     "output_type": "stream",
     "text": [
      "Enter the number which you want factorial of : 4\n",
      "24\n"
     ]
    }
   ],
   "source": [
    "#Write a Python program to get the Factorial number of given number.\n",
    "b = 1\n",
    "x = 1\n",
    "i = 1\n",
    "c = int(input(\"Enter the number which you want factorial of : \"))\n",
    "for i in range(1,c+1):\n",
    "    x = b*i\n",
    "    b = x\n",
    "print(x)"
   ]
  },
  {
   "cell_type": "code",
   "execution_count": 5,
   "id": "b967f74b",
   "metadata": {},
   "outputs": [
    {
     "name": "stdout",
     "output_type": "stream",
     "text": [
      "Enter the size upto which u want the series100\n",
      "0\n",
      "1\n",
      "1\n",
      "2\n",
      "3\n",
      "5\n",
      "8\n",
      "13\n",
      "21\n",
      "34\n",
      "55\n",
      "89\n"
     ]
    }
   ],
   "source": [
    "#Write a Python program to get the Fibonacci series of given range.\n",
    "a = 0\n",
    "b = 1\n",
    "c = int(input(\"Enter the size upto which u want the series : \"))\n",
    "d=0\n",
    "print(a)\n",
    "print(b)\n",
    "for i in range(c):\n",
    "    d=a+b\n",
    "    a=b\n",
    "    b=d\n",
    "    if(d<=c):\n",
    "        print(d)\n",
    "    "
   ]
  },
  {
   "cell_type": "code",
   "execution_count": 10,
   "id": "90d80223",
   "metadata": {},
   "outputs": [
    {
     "name": "stdout",
     "output_type": "stream",
     "text": [
      "Enter 1st number 50\n",
      "Enter 2nd number 100\n",
      "\n",
      "\n",
      "First number is  100\n",
      "Second number is  50\n"
     ]
    }
   ],
   "source": [
    "# Write python program that swap two number with temp variable and without temp variable. \n",
    "a = int(input(\"Enter 1st number \"))\n",
    "b = int(input(\"Enter 2nd number \"))\n",
    "temp = 0\n",
    "temp = a\n",
    "a = b\n",
    "b = temp\n",
    "print('\\n')\n",
    "print(\"First number is \",a)\n",
    "print(\"Second number is \",b)"
   ]
  },
  {
   "cell_type": "code",
   "execution_count": 11,
   "id": "04a3da7a",
   "metadata": {},
   "outputs": [
    {
     "name": "stdout",
     "output_type": "stream",
     "text": [
      "Enter 1st number 1000\n",
      "Enter 2nd number 20\n",
      "First number is 20\n",
      "Second number is  1000\n"
     ]
    }
   ],
   "source": [
    "a = int(input(\"Enter 1st number \"))\n",
    "b = int(input(\"Enter 2nd number \"))\n",
    "a,b = b,a\n",
    "print(\"First number is\",a)\n",
    "print(\"Second number is \",b)"
   ]
  },
  {
   "cell_type": "code",
   "execution_count": 13,
   "id": "c7fe2d44",
   "metadata": {},
   "outputs": [
    {
     "name": "stdout",
     "output_type": "stream",
     "text": [
      "Enter number 10\n",
      "It is an even number\n"
     ]
    }
   ],
   "source": [
    "#Write a Python program to find whether a given number is even or odd, print out an appropriate message to the user. \n",
    "number = int(input(\"Enter number \"))\n",
    "if(number%2==0):\n",
    "    print(\"It is an even number\")\n",
    "else:\n",
    "    print(\"It is an odd number\")"
   ]
  },
  {
   "cell_type": "code",
   "execution_count": 17,
   "id": "95cac5a4",
   "metadata": {},
   "outputs": [
    {
     "name": "stdout",
     "output_type": "stream",
     "text": [
      "Enter letter : j\n",
      "You entered non vowel\n"
     ]
    }
   ],
   "source": [
    "#Write a Python program to test whether a passed letter is a vowel or not.\n",
    "letter = input(\"Enter letter : \")\n",
    "x = letter.lower()\n",
    "if(x==\"a\" or x==\"e\" or x==\"i\" or x==\"o\" or x==\"u\"):\n",
    "    print(\"You entered a vowel\")\n",
    "else:\n",
    "    print(\"You entered non vowel\")"
   ]
  },
  {
   "cell_type": "code",
   "execution_count": 5,
   "id": "f662ef40",
   "metadata": {},
   "outputs": [
    {
     "name": "stdout",
     "output_type": "stream",
     "text": [
      "Enter a number 1: 5\n",
      "Enter a number 2: 22\n",
      "Enter a number 3: 5\n",
      "Sum is zero\n"
     ]
    }
   ],
   "source": [
    "#Write a Python program to sum of three given integers. However, if two values are equal sum will be zero\n",
    "a = int(input(\"Enter a number 1: \"))\n",
    "b = int(input(\"Enter a number 2: \"))\n",
    "c = int(input(\"Enter a number 3: \"))\n",
    "d=0\n",
    "if(a==b or b==c or a==c):\n",
    "    print(\"Sum is zero\")\n",
    "else:\n",
    "    d = a+b+c\n",
    "    print(\"Sum of three numbers is : \",d)"
   ]
  },
  {
   "cell_type": "code",
   "execution_count": 8,
   "id": "08a672a9",
   "metadata": {},
   "outputs": [
    {
     "name": "stdout",
     "output_type": "stream",
     "text": [
      "Enter a number 1: 20\n",
      "Enter a number 2: 2\n",
      "False\n"
     ]
    }
   ],
   "source": [
    "#Write a Python program that will return true if the two given integer values are equal or their sum or difference is 5\n",
    "a = int(input(\"Enter a number 1: \"))\n",
    "b = int(input(\"Enter a number 2: \"))\n",
    "if(a==b or a+b==5 or a-b==5):\n",
    "    print(\"True\")\n",
    "else:\n",
    "    print(\"False\")"
   ]
  },
  {
   "cell_type": "code",
   "execution_count": 5,
   "id": "8f5d8888",
   "metadata": {},
   "outputs": [
    {
     "name": "stdout",
     "output_type": "stream",
     "text": [
      "Enter the size of number : 2\n",
      "Enter your number : 1\n",
      "Enter your number : 1\n",
      "Sum of n positive numbers are :  2\n"
     ]
    }
   ],
   "source": [
    "#Write a python program to sum of the first n positive integers\n",
    "a = int(input(\"Enter the size of number : \"))\n",
    "c=0\n",
    "for i in range(a):\n",
    "    b = int(input(\"Enter your number : \"))\n",
    "    c = c+b\n",
    "print(\"Sum of n positive numbers are : \",c)"
   ]
  },
  {
   "cell_type": "code",
   "execution_count": 7,
   "id": "4bb0fcae",
   "metadata": {},
   "outputs": [
    {
     "name": "stdout",
     "output_type": "stream",
     "text": [
      "Enter your string : Jeet\n",
      "Length of the string is :  4\n"
     ]
    }
   ],
   "source": [
    "#Write a Python program to calculate the length of a string.\n",
    "str = input(\"Enter your string : \")\n",
    "print(\"Length of the string is : \",len(str))"
   ]
  },
  {
   "cell_type": "code",
   "execution_count": 4,
   "id": "bc672e8a",
   "metadata": {},
   "outputs": [
    {
     "name": "stdout",
     "output_type": "stream",
     "text": [
      "Enter the string : jeet\n",
      "j 1\n",
      "e 2\n",
      "e 2\n",
      "t 1\n"
     ]
    }
   ],
   "source": [
    "#Write a Python program to count the number of characters (character frequency) in a string.\n",
    "a = input(\"Enter the string : \")\n",
    "for i in a:\n",
    "    x = a.count(i)\n",
    "    print(i,x)\n",
    "    "
   ]
  },
  {
   "cell_type": "code",
   "execution_count": 19,
   "id": "e0c71c9a",
   "metadata": {},
   "outputs": [
    {
     "name": "stdout",
     "output_type": "stream",
     "text": [
      "['My', 'name', 'is', 'Jeet', ',', 'Jeet', 'looks', 'amazing.', 'Jeet', 'is', 'a', 'smart', 'boy.', 'Jeet', 'works', 'in', 'tops.', 'Jeet', 'is', '21', 'years', 'old.', 'Jeet', 'is', 'planning', 'to', 'give', 'ielts']\n",
      "My\n",
      "1\n",
      "name\n",
      "1\n",
      "is\n",
      "4\n",
      "Jeet\n",
      "6\n",
      ",\n",
      "1\n",
      "Jeet\n",
      "6\n",
      "looks\n",
      "1\n",
      "amazing.\n",
      "1\n",
      "Jeet\n",
      "6\n",
      "is\n",
      "4\n",
      "a\n",
      "7\n",
      "smart\n",
      "1\n",
      "boy.\n",
      "1\n",
      "Jeet\n",
      "6\n",
      "works\n",
      "1\n",
      "in\n",
      "3\n",
      "tops.\n",
      "1\n",
      "Jeet\n",
      "6\n",
      "is\n",
      "4\n",
      "21\n",
      "1\n",
      "years\n",
      "1\n",
      "old.\n",
      "1\n",
      "Jeet\n",
      "6\n",
      "is\n",
      "4\n",
      "planning\n",
      "1\n",
      "to\n",
      "2\n",
      "give\n",
      "1\n",
      "ielts\n",
      "1\n"
     ]
    }
   ],
   "source": [
    "#Write a python program to find the repeated items of a tuple\n",
    "j = (\"My name is Jeet ,  Jeet looks amazing. Jeet is a smart boy. Jeet works in tops. Jeet is 21 years old. Jeet is planning to give ielts\")\n",
    "x = j.split()\n",
    "print(x)\n",
    "for x in x:\n",
    "    print(x)\n",
    "    y = j.count(x)\n",
    "    print(y)"
   ]
  },
  {
   "cell_type": "code",
   "execution_count": 5,
   "id": "b7182c6d",
   "metadata": {},
   "outputs": [
    {
     "name": "stdout",
     "output_type": "stream",
     "text": [
      "Enter your main string : jeet123jeet\n",
      "Enter your sub string : jeet\n",
      "2\n"
     ]
    }
   ],
   "source": [
    "# Write a Python program to count occurrences of a substring in a string.\n",
    "a = input(\"Enter your main string : \")\n",
    "b = input(\"Enter your sub string : \")\n",
    "print(\"No oa.count(b))\n"
   ]
  },
  {
   "cell_type": "code",
   "execution_count": 27,
   "id": "5774e4e4",
   "metadata": {},
   "outputs": [
    {
     "name": "stdout",
     "output_type": "stream",
     "text": [
      "Enter the no of rows : 3\n",
      "   *  \n",
      "  *  *  *  \n",
      " *  *  *  *  *  \n"
     ]
    }
   ],
   "source": [
    "k=0\n",
    "rows = int(input(\"Enter the no of rows : \"))\n",
    "for i in range(1,rows+1):\n",
    "    for space in range(0,(rows-i)+1):\n",
    "        print(end=\" \")\n",
    "    while k!=(2*i-1):\n",
    "        print(\"* \",end=\" \")\n",
    "        k=k+1\n",
    "    k=0\n",
    "    print()"
   ]
  },
  {
   "cell_type": "code",
   "execution_count": 4,
   "id": "41bc14c8",
   "metadata": {},
   "outputs": [
    {
     "name": "stdout",
     "output_type": "stream",
     "text": [
      "Enter the string : jeet is 21 years old\n"
     ]
    },
    {
     "ename": "TypeError",
     "evalue": "must be str, not list",
     "output_type": "error",
     "traceback": [
      "\u001b[1;31m---------------------------------------------------------------------------\u001b[0m",
      "\u001b[1;31mTypeError\u001b[0m                                 Traceback (most recent call last)",
      "Cell \u001b[1;32mIn[4], line 4\u001b[0m\n\u001b[0;32m      2\u001b[0m a \u001b[38;5;241m=\u001b[39m \u001b[38;5;28minput\u001b[39m(\u001b[38;5;124m\"\u001b[39m\u001b[38;5;124mEnter the string : \u001b[39m\u001b[38;5;124m\"\u001b[39m)\n\u001b[0;32m      3\u001b[0m b \u001b[38;5;241m=\u001b[39m a\u001b[38;5;241m.\u001b[39msplit()\n\u001b[1;32m----> 4\u001b[0m c \u001b[38;5;241m=\u001b[39m \u001b[43ma\u001b[49m\u001b[38;5;241;43m.\u001b[39;49m\u001b[43mcount\u001b[49m\u001b[43m(\u001b[49m\u001b[43mb\u001b[49m\u001b[43m)\u001b[49m\n\u001b[0;32m      5\u001b[0m \u001b[38;5;28mprint\u001b[39m(b)\n\u001b[0;32m      6\u001b[0m \u001b[38;5;28mprint\u001b[39m(c)\n",
      "\u001b[1;31mTypeError\u001b[0m: must be str, not list"
     ]
    }
   ],
   "source": [
    "#Write a Python program to count the occurrences of each word in a given sentence\n",
    "a = input(\"Enter the string : \")\n",
    "b = a.split()\n",
    "c = a.count(b)\n",
    "print(b)\n",
    "print(c)"
   ]
  },
  {
   "cell_type": "code",
   "execution_count": null,
   "id": "6a47db98",
   "metadata": {},
   "outputs": [],
   "source": []
  }
 ],
 "metadata": {
  "kernelspec": {
   "display_name": "Python 3 (ipykernel)",
   "language": "python",
   "name": "python3"
  },
  "language_info": {
   "codemirror_mode": {
    "name": "ipython",
    "version": 3
   },
   "file_extension": ".py",
   "mimetype": "text/x-python",
   "name": "python",
   "nbconvert_exporter": "python",
   "pygments_lexer": "ipython3",
   "version": "3.10.9"
  }
 },
 "nbformat": 4,
 "nbformat_minor": 5
}
