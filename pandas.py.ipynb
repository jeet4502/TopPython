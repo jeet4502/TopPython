{
 "cells": [
  {
   "cell_type": "code",
   "execution_count": 1,
   "id": "eda4950d",
   "metadata": {},
   "outputs": [
    {
     "name": "stdout",
     "output_type": "stream",
     "text": [
      "0    10\n",
      "1    15\n",
      "2     8\n",
      "3    21\n",
      "4    15\n",
      "dtype: int32\n"
     ]
    }
   ],
   "source": [
    "import numpy as np\n",
    "import pandas as pd\n",
    "\n",
    "data = np.array([10,15,8,21,15])\n",
    "\n",
    "ser = pd.Series(data)\n",
    "\n",
    "print(ser)"
   ]
  },
  {
   "cell_type": "code",
   "execution_count": 2,
   "id": "170361c3",
   "metadata": {},
   "outputs": [
    {
     "name": "stdout",
     "output_type": "stream",
     "text": [
      "First     a\n",
      "Second    b\n",
      "Third     c\n",
      "Fourth    d\n",
      "Fifth     e\n",
      "dtype: object\n"
     ]
    }
   ],
   "source": [
    "import numpy as np\n",
    "import pandas as pd\n",
    "\n",
    "data = np.array(['a','b','c','d','e'])\n",
    "res=pd.Series(data,index=[\"First\",\"Second\",\"Third\",\"Fourth\",\"Fifth\"])\n",
    "print(res)"
   ]
  },
  {
   "cell_type": "code",
   "execution_count": 1,
   "id": "d3f729e5",
   "metadata": {},
   "outputs": [],
   "source": [
    "import pandas as pd\n",
    "import numpy as np"
   ]
  },
  {
   "cell_type": "code",
   "execution_count": 2,
   "id": "f6d1c301",
   "metadata": {},
   "outputs": [],
   "source": [
    "fruits=[\"Apple\",\"Orange\",\"Grapes\",\"Kiwi\",\"Banana\",\"Mangoes\"]\n"
   ]
  },
  {
   "cell_type": "code",
   "execution_count": 3,
   "id": "9a0dcd65",
   "metadata": {},
   "outputs": [],
   "source": [
    "#Series\n",
    "#DataFrame\n",
    "#Panel"
   ]
  },
  {
   "cell_type": "code",
   "execution_count": 4,
   "id": "5a3b5a98",
   "metadata": {},
   "outputs": [],
   "source": [
    "#Series : One Column\n",
    "#Data Frame : Mutiple Columns"
   ]
  },
  {
   "cell_type": "code",
   "execution_count": 5,
   "id": "3857f328",
   "metadata": {},
   "outputs": [
    {
     "data": {
      "text/plain": [
       "0      Apple\n",
       "1     Orange\n",
       "2     Grapes\n",
       "3       Kiwi\n",
       "4     Banana\n",
       "5    Mangoes\n",
       "dtype: object"
      ]
     },
     "execution_count": 5,
     "metadata": {},
     "output_type": "execute_result"
    }
   ],
   "source": [
    "pd.Series(fruits)"
   ]
  },
  {
   "cell_type": "code",
   "execution_count": 6,
   "id": "752349ff",
   "metadata": {},
   "outputs": [],
   "source": [
    "age=[25,45,12,15,65,75,19]"
   ]
  },
  {
   "cell_type": "code",
   "execution_count": 7,
   "id": "32624a21",
   "metadata": {},
   "outputs": [],
   "source": [
    "age_series = pd.Series(age)"
   ]
  },
  {
   "cell_type": "code",
   "execution_count": 8,
   "id": "762a7dd0",
   "metadata": {},
   "outputs": [
    {
     "name": "stdout",
     "output_type": "stream",
     "text": [
      "0    25\n",
      "1    45\n",
      "2    12\n",
      "3    15\n",
      "4    65\n",
      "5    75\n",
      "6    19\n",
      "dtype: int64\n"
     ]
    }
   ],
   "source": [
    "print(age_series)"
   ]
  },
  {
   "cell_type": "code",
   "execution_count": 9,
   "id": "04a1495a",
   "metadata": {},
   "outputs": [],
   "source": [
    "marks=[75,85,98,15,65]\n",
    "student = [\"Ram\",\"Raj\",\"Lokesh\",\"Parth\",\"Jay\"]"
   ]
  },
  {
   "cell_type": "code",
   "execution_count": 10,
   "id": "18646b52",
   "metadata": {},
   "outputs": [
    {
     "data": {
      "text/plain": [
       "75       Ram\n",
       "85       Raj\n",
       "98    Lokesh\n",
       "15     Parth\n",
       "65       Jay\n",
       "dtype: object"
      ]
     },
     "execution_count": 10,
     "metadata": {},
     "output_type": "execute_result"
    }
   ],
   "source": [
    "pd.Series(student,index=marks)"
   ]
  },
  {
   "cell_type": "code",
   "execution_count": 11,
   "id": "1c873ce5",
   "metadata": {},
   "outputs": [],
   "source": [
    "student_data={\"maths\":75,\"DSA\":45,\"AI\":85,\"DA\":95,\"ML\":98}"
   ]
  },
  {
   "cell_type": "code",
   "execution_count": 12,
   "id": "ca440c53",
   "metadata": {},
   "outputs": [
    {
     "name": "stdout",
     "output_type": "stream",
     "text": [
      "{'maths': 75, 'DSA': 45, 'AI': 85, 'DA': 95, 'ML': 98}\n"
     ]
    }
   ],
   "source": [
    "print(student_data)"
   ]
  },
  {
   "cell_type": "code",
   "execution_count": 13,
   "id": "6c45501a",
   "metadata": {},
   "outputs": [],
   "source": [
    "marks_students=pd.Series(student_data,name=\"Jeet Marks\")"
   ]
  },
  {
   "cell_type": "code",
   "execution_count": 14,
   "id": "6a40bd99",
   "metadata": {},
   "outputs": [
    {
     "name": "stdout",
     "output_type": "stream",
     "text": [
      "maths    75\n",
      "DSA      45\n",
      "AI       85\n",
      "DA       95\n",
      "ML       98\n",
      "Name: Jeet Marks, dtype: int64\n"
     ]
    }
   ],
   "source": [
    "print(marks_students)"
   ]
  },
  {
   "cell_type": "code",
   "execution_count": 15,
   "id": "5971be74",
   "metadata": {},
   "outputs": [
    {
     "data": {
      "text/plain": [
       "5"
      ]
     },
     "execution_count": 15,
     "metadata": {},
     "output_type": "execute_result"
    }
   ],
   "source": [
    "marks_students.size"
   ]
  },
  {
   "cell_type": "code",
   "execution_count": 16,
   "id": "04890f13",
   "metadata": {},
   "outputs": [
    {
     "data": {
      "text/plain": [
       "dtype('int64')"
      ]
     },
     "execution_count": 16,
     "metadata": {},
     "output_type": "execute_result"
    }
   ],
   "source": [
    "marks_students.dtype"
   ]
  },
  {
   "cell_type": "code",
   "execution_count": 17,
   "id": "91622a89",
   "metadata": {},
   "outputs": [
    {
     "data": {
      "text/plain": [
       "'Jeet Marks'"
      ]
     },
     "execution_count": 17,
     "metadata": {},
     "output_type": "execute_result"
    }
   ],
   "source": [
    "marks_students.name"
   ]
  },
  {
   "cell_type": "code",
   "execution_count": 18,
   "id": "82a347e6",
   "metadata": {},
   "outputs": [
    {
     "data": {
      "text/plain": [
       "True"
      ]
     },
     "execution_count": 18,
     "metadata": {},
     "output_type": "execute_result"
    }
   ],
   "source": [
    "marks_students.is_unique"
   ]
  },
  {
   "cell_type": "code",
   "execution_count": 19,
   "id": "be65a7a2",
   "metadata": {},
   "outputs": [
    {
     "data": {
      "text/plain": [
       "False"
      ]
     },
     "execution_count": 19,
     "metadata": {},
     "output_type": "execute_result"
    }
   ],
   "source": [
    "pd.Series([1,2,34,1,2,1,3,1,2,3,1,2,3,45]).is_unique"
   ]
  },
  {
   "cell_type": "code",
   "execution_count": 20,
   "id": "33b5a806",
   "metadata": {},
   "outputs": [
    {
     "data": {
      "text/plain": [
       "Index(['maths', 'DSA', 'AI', 'DA', 'ML'], dtype='object')"
      ]
     },
     "execution_count": 20,
     "metadata": {},
     "output_type": "execute_result"
    }
   ],
   "source": [
    "marks_students.index"
   ]
  },
  {
   "cell_type": "code",
   "execution_count": 21,
   "id": "dc1b503d",
   "metadata": {},
   "outputs": [
    {
     "data": {
      "text/plain": [
       "array([75, 45, 85, 95, 98], dtype=int64)"
      ]
     },
     "execution_count": 21,
     "metadata": {},
     "output_type": "execute_result"
    }
   ],
   "source": [
    "marks_students.values"
   ]
  },
  {
   "cell_type": "code",
   "execution_count": 22,
   "id": "1453e428",
   "metadata": {},
   "outputs": [],
   "source": [
    "df = pd.read_csv(\"Mental Health Dataset.csv\")"
   ]
  },
  {
   "cell_type": "code",
   "execution_count": 23,
   "id": "e1d74ff3",
   "metadata": {},
   "outputs": [
    {
     "name": "stdout",
     "output_type": "stream",
     "text": [
      "                                                   posts      predicted  \\\n",
      "0      I know as parent of child with down syndrome t...       negative   \n",
      "1      but in my heart I know this is the future prom...        neutral   \n",
      "2      I have mylefibrosis which turn to leukemia the...       negative   \n",
      "3      from one of my health group subject wayne dyer...        neutral   \n",
      "4      gmos now link to leukemia http nsnbc I 2013 07...        neutral   \n",
      "...                                                  ...            ...   \n",
      "10387  hey everyone I am a 25 year old male I work ou...       negative   \n",
      "10388  have surgery for stage 1 colon cancer 1 year a...  very negative   \n",
      "10389  the doctor advise we he could not remove the a...        neutral   \n",
      "10390  my 66 year old father have been through so muc...        neutral   \n",
      "10391  I have bein have a bloody stool since last yea...       negative   \n",
      "\n",
      "       intensity  \n",
      "0             -1  \n",
      "1              0  \n",
      "2             -1  \n",
      "3              0  \n",
      "4              0  \n",
      "...          ...  \n",
      "10387         -1  \n",
      "10388         -2  \n",
      "10389          0  \n",
      "10390          0  \n",
      "10391         -1  \n",
      "\n",
      "[10392 rows x 3 columns]\n"
     ]
    }
   ],
   "source": [
    "print(df)"
   ]
  },
  {
   "cell_type": "code",
   "execution_count": 24,
   "id": "67c867f2",
   "metadata": {},
   "outputs": [
    {
     "data": {
      "text/html": [
       "<div>\n",
       "<style scoped>\n",
       "    .dataframe tbody tr th:only-of-type {\n",
       "        vertical-align: middle;\n",
       "    }\n",
       "\n",
       "    .dataframe tbody tr th {\n",
       "        vertical-align: top;\n",
       "    }\n",
       "\n",
       "    .dataframe thead th {\n",
       "        text-align: right;\n",
       "    }\n",
       "</style>\n",
       "<table border=\"1\" class=\"dataframe\">\n",
       "  <thead>\n",
       "    <tr style=\"text-align: right;\">\n",
       "      <th></th>\n",
       "      <th>posts</th>\n",
       "      <th>predicted</th>\n",
       "      <th>intensity</th>\n",
       "    </tr>\n",
       "  </thead>\n",
       "  <tbody>\n",
       "    <tr>\n",
       "      <th>0</th>\n",
       "      <td>I know as parent of child with down syndrome t...</td>\n",
       "      <td>negative</td>\n",
       "      <td>-1</td>\n",
       "    </tr>\n",
       "    <tr>\n",
       "      <th>1</th>\n",
       "      <td>but in my heart I know this is the future prom...</td>\n",
       "      <td>neutral</td>\n",
       "      <td>0</td>\n",
       "    </tr>\n",
       "    <tr>\n",
       "      <th>2</th>\n",
       "      <td>I have mylefibrosis which turn to leukemia the...</td>\n",
       "      <td>negative</td>\n",
       "      <td>-1</td>\n",
       "    </tr>\n",
       "    <tr>\n",
       "      <th>3</th>\n",
       "      <td>from one of my health group subject wayne dyer...</td>\n",
       "      <td>neutral</td>\n",
       "      <td>0</td>\n",
       "    </tr>\n",
       "    <tr>\n",
       "      <th>4</th>\n",
       "      <td>gmos now link to leukemia http nsnbc I 2013 07...</td>\n",
       "      <td>neutral</td>\n",
       "      <td>0</td>\n",
       "    </tr>\n",
       "  </tbody>\n",
       "</table>\n",
       "</div>"
      ],
      "text/plain": [
       "                                               posts predicted  intensity\n",
       "0  I know as parent of child with down syndrome t...  negative         -1\n",
       "1  but in my heart I know this is the future prom...   neutral          0\n",
       "2  I have mylefibrosis which turn to leukemia the...  negative         -1\n",
       "3  from one of my health group subject wayne dyer...   neutral          0\n",
       "4  gmos now link to leukemia http nsnbc I 2013 07...   neutral          0"
      ]
     },
     "execution_count": 24,
     "metadata": {},
     "output_type": "execute_result"
    }
   ],
   "source": [
    "df.head()"
   ]
  },
  {
   "cell_type": "code",
   "execution_count": 27,
   "id": "8ecaf219",
   "metadata": {},
   "outputs": [
    {
     "name": "stdout",
     "output_type": "stream",
     "text": [
      "0             negative\n",
      "1              neutral\n",
      "2             negative\n",
      "3              neutral\n",
      "4              neutral\n",
      "             ...      \n",
      "10387         negative\n",
      "10388    very negative\n",
      "10389          neutral\n",
      "10390          neutral\n",
      "10391         negative\n",
      "Name: predicted, Length: 10392, dtype: object\n"
     ]
    }
   ],
   "source": [
    "predicted=df.predicted\n",
    "print(predicted)"
   ]
  },
  {
   "cell_type": "code",
   "execution_count": 28,
   "id": "b844c72d",
   "metadata": {},
   "outputs": [
    {
     "data": {
      "text/plain": [
       "False"
      ]
     },
     "execution_count": 28,
     "metadata": {},
     "output_type": "execute_result"
    }
   ],
   "source": [
    "predicted.is_unique"
   ]
  },
  {
   "cell_type": "code",
   "execution_count": 29,
   "id": "912e60fd",
   "metadata": {},
   "outputs": [
    {
     "data": {
      "text/plain": [
       "10392"
      ]
     },
     "execution_count": 29,
     "metadata": {},
     "output_type": "execute_result"
    }
   ],
   "source": [
    "predicted.size"
   ]
  },
  {
   "cell_type": "code",
   "execution_count": 30,
   "id": "631b88e4",
   "metadata": {},
   "outputs": [
    {
     "data": {
      "text/plain": [
       "array(['negative', 'neutral', 'negative', ..., 'neutral', 'neutral',\n",
       "       'negative'], dtype=object)"
      ]
     },
     "execution_count": 30,
     "metadata": {},
     "output_type": "execute_result"
    }
   ],
   "source": [
    "predicted.values"
   ]
  },
  {
   "cell_type": "code",
   "execution_count": 31,
   "id": "951314c4",
   "metadata": {},
   "outputs": [
    {
     "data": {
      "text/plain": [
       "RangeIndex(start=0, stop=10392, step=1)"
      ]
     },
     "execution_count": 31,
     "metadata": {},
     "output_type": "execute_result"
    }
   ],
   "source": [
    "predicted.index"
   ]
  },
  {
   "cell_type": "code",
   "execution_count": 32,
   "id": "dfeabf3c",
   "metadata": {},
   "outputs": [
    {
     "data": {
      "text/plain": [
       "'predicted'"
      ]
     },
     "execution_count": 32,
     "metadata": {},
     "output_type": "execute_result"
    }
   ],
   "source": [
    "predicted.name"
   ]
  },
  {
   "cell_type": "code",
   "execution_count": 33,
   "id": "9bbe0cf4",
   "metadata": {},
   "outputs": [
    {
     "data": {
      "text/plain": [
       "(10392,)"
      ]
     },
     "execution_count": 33,
     "metadata": {},
     "output_type": "execute_result"
    }
   ],
   "source": [
    "predicted.shape"
   ]
  },
  {
   "cell_type": "code",
   "execution_count": 34,
   "id": "d132acd2",
   "metadata": {},
   "outputs": [
    {
     "data": {
      "text/plain": [
       "dtype('O')"
      ]
     },
     "execution_count": 34,
     "metadata": {},
     "output_type": "execute_result"
    }
   ],
   "source": [
    "predicted.dtype"
   ]
  },
  {
   "cell_type": "code",
   "execution_count": 35,
   "id": "b1862640",
   "metadata": {},
   "outputs": [
    {
     "data": {
      "text/plain": [
       "False"
      ]
     },
     "execution_count": 35,
     "metadata": {},
     "output_type": "execute_result"
    }
   ],
   "source": [
    "predicted.empty"
   ]
  },
  {
   "cell_type": "code",
   "execution_count": 36,
   "id": "c265fd8b",
   "metadata": {},
   "outputs": [
    {
     "data": {
      "text/plain": [
       "1"
      ]
     },
     "execution_count": 36,
     "metadata": {},
     "output_type": "execute_result"
    }
   ],
   "source": [
    "predicted.ndim"
   ]
  },
  {
   "cell_type": "code",
   "execution_count": 37,
   "id": "e936be71",
   "metadata": {},
   "outputs": [
    {
     "data": {
      "text/plain": [
       "2"
      ]
     },
     "execution_count": 37,
     "metadata": {},
     "output_type": "execute_result"
    }
   ],
   "source": [
    "df.ndim"
   ]
  },
  {
   "cell_type": "code",
   "execution_count": 38,
   "id": "8c92c7d4",
   "metadata": {},
   "outputs": [
    {
     "data": {
      "text/plain": [
       "array([['I know as parent of child with down syndrome that you have all hear that our child are at a high risk of leukemia as parent we read up on it and then say well that will not happen to my child well when will have just turn 2yr old he start bruise the thought of leukemia breafly cross my mind but I quickly push it out of my mind and rationalize it by say that he was a rough playing 2yr old and it was normal to bruise now and then I have just go to work a few month before and will have get a little more fussy and whinny but that is normal to right well then he get sick and like a lot of child with down when he get sick he get sick so we take he to the doc on a friday they say he have a cold and I tell my boss that he was sick and not to be surpise if I call and say he was in the hospital because they offten have to do that when he get sick she say ok and when sit get there sure enough he was much sicker and we take he to the er they tell we he have rsv and send we home with some med by the time we get home he was much bad and we take he back this time they order more test and put he in the hospital then my world start come down around I first they say that some of his blood work come back bad that they want to retest but it was probley nothing then that come back and they say they want to move he to icu just to keep a well I on he I start get scared that thought come back leukemia put again I try to push it out of my mind because no one want to think the bad well it was not long at all before the doc come in and say we believe william have leukemia they quickly fly he from beaumont tx to houston tx texas childrens hospital will is do really well now he is in remision but still have 3 1 2 yrs of chemo he was up run around but now can not walk anymore due to one of the chemos vinchristin but it will come back and he have just find other way to get around nothing is go to slow he dow I write all of this to say please do not dwell on it but if you see any symptom of leukemia in your child please get it check out it is well to find out because you are look for it than to find out like I and most other parent I have talk to by accident',\n",
       "        'negative', -1],\n",
       "       ['but in my heart I know this is the future promise article regardless http ottawa ctvnew can ottawa researcher hopeful nano particle can cure leukemia 1 1409330 ottawa researcher hopeful nano particle can cure leukemia medical breakthrough ctv joanne schnurr on homegrown research that is close to cure leukemia medical leader around the world have their eye on ottawa blood cancer breakthrough ottawa doctor talk cure doctor at the ottawa research institute call it a major finding in the battle against the blood cancer leukemia share 8 text share on print share on email 0 joanne schnurr ctv ottawa publish tuesday august 13 2013 4 05pm edt last update tuesday august 13 2013 6 22pm edt ottawa researcher are cautiously use the word cure when talk about new research into leukemia the research is new and a long way from help human patient but in mouse they ve develop tiny particle that in the lab cause cancerous white blood cell to kill themselves for patient with acute myeloid leukemia stem cell transplant and heavy chemotherapy have been the only hope for a cure but even at that the survival rate is among the bad of all the cancer at 22 what s happen inside a lab at the ottawa hospital research institute is give new hope though for a cure for even the tough type of leukemia doctor david conrad and john bell have develop a tiny nano particle that cause human blood cancer cell to kill themselves the result on mouse have been dramatic photo dr david conrad at ottawa lab dr david conrad at ottawa lab cancer cell kill themselves cancer cell kill themselves in 60 percent of the mouse we have a cure explain dr david conrad a hematologist conduct research in the blood and marrow transplant program at the ottawa hospital so in other word if we leave these mouse to continue live in the lab they would live out their normal lifespan and were essentially cure of the leukemia all the other untreated mouse die within 21 day the particle were able to kill multiple form of leukemia in the lab include sample take from local patient who have fail all other form of therapy it have not yet been try on human and likely would not for a couple more year dr conrad have capture on video what happen to the leukemia cell when they are expose to the killer nano particle at first he say the cell are happy and move once the agent is introduce very rapidly they change behavior they become bloated and they shrivel up and you see all there is no movement and you see all the cancer cell in the plate completely dead they think this agent is def con 5 and they undergo suicide say dr conrad for biomedical science student mina rizk work alongside the researcher in a potential cure for leukemia is a once in a lifetime opportunity I m grateful to have find this opportunity say rizk I am very aware that not many student have the chance I do while their focus have been blood cancer the researcher say they have have some success on solid cancer tumor too the next step though are clinical trial to see if they can kill the cancer cell in human the same way they do in mouse read more http ottawa ctvnew can ottawa researcher hopeful nano particle can cure leukemia 1 1409330 ixzz2btqkefrh',\n",
       "        'neutral', 0],\n",
       "       ['I have mylefibrosis which turn to leukemia they want to do a stem cell transplant stc on I but want the leukemia in remission first I have induction chemo hard chemo for a week in the hospital follow by three week in hosp in recovery this do not put leukemia in remission for some reason this round of chemo hit I hard I get a pnemonia I have asthma and some blood clot around my pic line a few week later I go in for a second round of chemo for a week in hospital I have very few side effect from this and the bad part was sit around recover for three week in that tiny room with two kid at home my leukemia still do not go in remission so they schedule I for a stc and tell I I have about a 10 percent chance it would work it do it is 120 day from transplant and I have no trace of leukemia in my system I get to know slightly five people who have sct at the same time I do they have various cancer all of we agree the fear of it was bad than the actual experience an stc consist of a week of chemo at the end of which the put the stem cell in you just like they would give you a blood transfusion it drip in like an iv and take about 2 hour the five people I was with all make it through and meet again in recovery you have to come in every day for awhile then every other day then every week and so on 4 of we get great result one person still have leukemia when it was finish I encourage you to get a second opinion when you make big decision after mayo clinic scottsdale want I to do a second round of chemo I go to md anderson for a second opinion they tell I I was chemo reisitant and that they would suggest an experimental jak2 inhibitor I do not even have the jak2 gene or mutation or whatever I say have that ever work at put leukemia in remission and they say no I have two little kid and need a decent chance to beat this I go back to mayo and my doctor dr reeder assure I I have a chance and he was right I shudder to think I might have go with md anderson recommendation I would also recommend dr slack at mayo scottsdale oh and by the way 3 of the 5 people who have sct with I were between 66 and 71 year old anyhow good luck in your journey kathy 42 year old',\n",
       "        'negative', -1],\n",
       "       ...,\n",
       "       ['the doctor advise we he could not remove the abnormal polyp before christ of it is size and that laparoscopic surgery is necessary they have to make an incision in his belly open he up do a colon resection and stitch everything my father recently have a colonoscopy do there were 6 small polyp that were easily remove during the colonoscopy but one was abnormal in size and close to the anus the doctor take a sample of the lesion which will be test for cancer g back up not only do I pray that the lesion is benign but was hope that laparoscopic surgery could some how be avoid and be do via a colonoscopy I read on the internet rarely a polyp will be too large to remove during colonoscopy which mean that a surgical procedure will be need at a later time I guess my question is what size is consider too large I am hope this doctor is not just eager to use his knife is all and do not want my 64 year old father with diabete to have to go through the recovery stage thank in advance',\n",
       "        'neutral', 0],\n",
       "       ['my 66 year old father have been through so much in this past year and I really need to try to find he some relief he was dx with stage 3 rectal cancer in march 09 he undergo radiation and chemo until the middle of may when my brother was kill in a motorcycle accident he have been do very well but the stress of his son in the hospital for 9 day and the grief when he die really do a number on his body he end up in icu due to chemo complication was on a ventilator dialysis total life support he was in the hospital for 30 day and then spend another month in an inpatient rehab center where he learn how to walk again he was strong enough to have his rectal tumor removal surgery in november 09 he was do pretty well with the bag before he have the ileostomy reversal surgery in march 10 it is now difficult for he to leave the house due to the number of bms per day and the pain he is have before during bms I realize he is not alone with the problem he is have now as many of you are go through the same issue I think he wish he do not have the reversal surgery but hopefully that will change as his body adjust his surgeon say everything is fine but he is not the one run to the bathroom 20x a day and deal with the pain I take my dad to a gi specialist who prescribe hydrocortisone ac suppositorie to help reduce the internal inflammation and reduce pain my dad surgical nurse say not to use hydrocortisone but I am wonder why not on other board I have read about use calmoseptine cocoa butter johnson johnson soft lotion and radiacreme to help with rectal pain can any of you offer advice as to how these have work for you so I can pass it along to my dad my dad is currently take lomotil and immodium as well as metamucil but can not seem to figure out the right balance any advice will be appreciate thank you very much sorry this is so long',\n",
       "        'neutral', 0],\n",
       "       ['I have bein have a bloody stool since last year it start around june it last about 2 week then it go away till the end of march of this year it come back I start bleed again I go to the doctor and he give I a diet so my stool could get a bit soft to see if thing will get well my stool get thin and soft with the diet he give I and I do stop bleed but the bleeding come back about a week ago when I do a really big and thick stool and I think that damage something on my rectal rectum area I was think it damage the wound that were heal my stool is ussually mark by a line of blood accompany by a couple of drop of blood nothing hurt though but I am start to get scared and its starting to get I very depressed because I do not have medical insurance but anyways this happen to I about 3 year ago but it go away in about 2 day I am 23 year old I eat really healthy I run about 12 to 15 mile every week I do not know why I have this I go to my local clinic a month ago and the doctor take a look at the opening of my rectal opening and he say I have anal fissure he tell he see a bunch of little cut and I am guess all of that damage was cause by my thick big hard stool but I am still very worried what is the good thing to do should I go back to the clinic the doctor say to go back if the bleeding continue',\n",
       "        'negative', -1]], dtype=object)"
      ]
     },
     "execution_count": 38,
     "metadata": {},
     "output_type": "execute_result"
    }
   ],
   "source": [
    "df.values"
   ]
  },
  {
   "cell_type": "code",
   "execution_count": 39,
   "id": "bbfe002f",
   "metadata": {},
   "outputs": [
    {
     "data": {
      "text/plain": [
       "(10392, 3)"
      ]
     },
     "execution_count": 39,
     "metadata": {},
     "output_type": "execute_result"
    }
   ],
   "source": [
    "df.shape"
   ]
  },
  {
   "cell_type": "code",
   "execution_count": 40,
   "id": "06573423",
   "metadata": {},
   "outputs": [
    {
     "data": {
      "text/plain": [
       "31176"
      ]
     },
     "execution_count": 40,
     "metadata": {},
     "output_type": "execute_result"
    }
   ],
   "source": [
    "df.size"
   ]
  },
  {
   "cell_type": "code",
   "execution_count": 42,
   "id": "24114256",
   "metadata": {},
   "outputs": [
    {
     "data": {
      "text/plain": [
       "RangeIndex(start=0, stop=10392, step=1)"
      ]
     },
     "execution_count": 42,
     "metadata": {},
     "output_type": "execute_result"
    }
   ],
   "source": [
    "df.index"
   ]
  },
  {
   "cell_type": "code",
   "execution_count": 43,
   "id": "8b875c02",
   "metadata": {},
   "outputs": [
    {
     "data": {
      "text/plain": [
       "[RangeIndex(start=0, stop=10392, step=1),\n",
       " Index(['posts', 'predicted', 'intensity'], dtype='object')]"
      ]
     },
     "execution_count": 43,
     "metadata": {},
     "output_type": "execute_result"
    }
   ],
   "source": [
    "df.axes"
   ]
  },
  {
   "cell_type": "code",
   "execution_count": 44,
   "id": "181f91c9",
   "metadata": {},
   "outputs": [
    {
     "data": {
      "text/plain": [
       "posts        object\n",
       "predicted    object\n",
       "intensity     int64\n",
       "dtype: object"
      ]
     },
     "execution_count": 44,
     "metadata": {},
     "output_type": "execute_result"
    }
   ],
   "source": [
    "df.dtypes"
   ]
  },
  {
   "cell_type": "code",
   "execution_count": 52,
   "id": "6ce44a2e",
   "metadata": {},
   "outputs": [
    {
     "data": {
      "text/html": [
       "<div>\n",
       "<style scoped>\n",
       "    .dataframe tbody tr th:only-of-type {\n",
       "        vertical-align: middle;\n",
       "    }\n",
       "\n",
       "    .dataframe tbody tr th {\n",
       "        vertical-align: top;\n",
       "    }\n",
       "\n",
       "    .dataframe thead th {\n",
       "        text-align: right;\n",
       "    }\n",
       "</style>\n",
       "<table border=\"1\" class=\"dataframe\">\n",
       "  <thead>\n",
       "    <tr style=\"text-align: right;\">\n",
       "      <th></th>\n",
       "      <th>posts</th>\n",
       "      <th>predicted</th>\n",
       "      <th>intensity</th>\n",
       "    </tr>\n",
       "  </thead>\n",
       "  <tbody>\n",
       "    <tr>\n",
       "      <th>0</th>\n",
       "      <td>I know as parent of child with down syndrome t...</td>\n",
       "      <td>negative</td>\n",
       "      <td>-1</td>\n",
       "    </tr>\n",
       "    <tr>\n",
       "      <th>1</th>\n",
       "      <td>but in my heart I know this is the future prom...</td>\n",
       "      <td>neutral</td>\n",
       "      <td>0</td>\n",
       "    </tr>\n",
       "    <tr>\n",
       "      <th>2</th>\n",
       "      <td>I have mylefibrosis which turn to leukemia the...</td>\n",
       "      <td>negative</td>\n",
       "      <td>-1</td>\n",
       "    </tr>\n",
       "    <tr>\n",
       "      <th>3</th>\n",
       "      <td>from one of my health group subject wayne dyer...</td>\n",
       "      <td>neutral</td>\n",
       "      <td>0</td>\n",
       "    </tr>\n",
       "    <tr>\n",
       "      <th>4</th>\n",
       "      <td>gmos now link to leukemia http nsnbc I 2013 07...</td>\n",
       "      <td>neutral</td>\n",
       "      <td>0</td>\n",
       "    </tr>\n",
       "    <tr>\n",
       "      <th>...</th>\n",
       "      <td>...</td>\n",
       "      <td>...</td>\n",
       "      <td>...</td>\n",
       "    </tr>\n",
       "    <tr>\n",
       "      <th>10384</th>\n",
       "      <td>hello I am a 48 yr old female have my 1st colo...</td>\n",
       "      <td>negative</td>\n",
       "      <td>-1</td>\n",
       "    </tr>\n",
       "    <tr>\n",
       "      <th>10385</th>\n",
       "      <td>it is been 6 month since I have my reversal I ...</td>\n",
       "      <td>neutral</td>\n",
       "      <td>0</td>\n",
       "    </tr>\n",
       "    <tr>\n",
       "      <th>10386</th>\n",
       "      <td>how to give yourself enema with a stoma</td>\n",
       "      <td>neutral</td>\n",
       "      <td>0</td>\n",
       "    </tr>\n",
       "    <tr>\n",
       "      <th>10387</th>\n",
       "      <td>hey everyone I am a 25 year old male I work ou...</td>\n",
       "      <td>negative</td>\n",
       "      <td>-1</td>\n",
       "    </tr>\n",
       "    <tr>\n",
       "      <th>10388</th>\n",
       "      <td>have surgery for stage 1 colon cancer 1 year a...</td>\n",
       "      <td>very negative</td>\n",
       "      <td>-2</td>\n",
       "    </tr>\n",
       "  </tbody>\n",
       "</table>\n",
       "<p>10389 rows × 3 columns</p>\n",
       "</div>"
      ],
      "text/plain": [
       "                                                   posts      predicted  \\\n",
       "0      I know as parent of child with down syndrome t...       negative   \n",
       "1      but in my heart I know this is the future prom...        neutral   \n",
       "2      I have mylefibrosis which turn to leukemia the...       negative   \n",
       "3      from one of my health group subject wayne dyer...        neutral   \n",
       "4      gmos now link to leukemia http nsnbc I 2013 07...        neutral   \n",
       "...                                                  ...            ...   \n",
       "10384  hello I am a 48 yr old female have my 1st colo...       negative   \n",
       "10385  it is been 6 month since I have my reversal I ...        neutral   \n",
       "10386            how to give yourself enema with a stoma        neutral   \n",
       "10387  hey everyone I am a 25 year old male I work ou...       negative   \n",
       "10388  have surgery for stage 1 colon cancer 1 year a...  very negative   \n",
       "\n",
       "       intensity  \n",
       "0             -1  \n",
       "1              0  \n",
       "2             -1  \n",
       "3              0  \n",
       "4              0  \n",
       "...          ...  \n",
       "10384         -1  \n",
       "10385          0  \n",
       "10386          0  \n",
       "10387         -1  \n",
       "10388         -2  \n",
       "\n",
       "[10389 rows x 3 columns]"
      ]
     },
     "execution_count": 52,
     "metadata": {},
     "output_type": "execute_result"
    }
   ],
   "source": [
    "df.head(-3)"
   ]
  },
  {
   "cell_type": "code",
   "execution_count": null,
   "id": "d6b8136a",
   "metadata": {},
   "outputs": [],
   "source": []
  }
 ],
 "metadata": {
  "kernelspec": {
   "display_name": "Python 3 (ipykernel)",
   "language": "python",
   "name": "python3"
  },
  "language_info": {
   "codemirror_mode": {
    "name": "ipython",
    "version": 3
   },
   "file_extension": ".py",
   "mimetype": "text/x-python",
   "name": "python",
   "nbconvert_exporter": "python",
   "pygments_lexer": "ipython3",
   "version": "3.10.9"
  }
 },
 "nbformat": 4,
 "nbformat_minor": 5
}
