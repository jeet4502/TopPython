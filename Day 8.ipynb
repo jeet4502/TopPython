{
 "cells": [
  {
   "cell_type": "code",
   "execution_count": 4,
   "id": "6c8f6587",
   "metadata": {},
   "outputs": [
    {
     "name": "stdout",
     "output_type": "stream",
     "text": [
      "Enter the age 1st : 1\n",
      "Enter the age 2nd : 8\n",
      "Enter the age 3rd : 50\n",
      "Age 3rd is oldest one that is  50\n"
     ]
    }
   ],
   "source": [
    "# User will input(3 ages). Find the oldest one \n",
    "age1 = int(input(\"Enter the age 1st : \"))\n",
    "age2 = int(input(\"Enter the age 2nd : \"))\n",
    "age3 = int(input(\"Enter the age 3rd : \"))\n",
    "\n",
    "if(age1>age2 and age1>age3):\n",
    "    print(\"Age 1st is oldest one that is \",age1)\n",
    "elif(age2>age1 and age2>age3):\n",
    "    print(\"Age 2nd is oldest one that is \",age2)\n",
    "else:\n",
    "    print(\"Age 3rd is oldest one that is \",age3)\n",
    "    "
   ]
  },
  {
   "cell_type": "code",
   "execution_count": 5,
   "id": "128760c0",
   "metadata": {},
   "outputs": [
    {
     "name": "stdout",
     "output_type": "stream",
     "text": [
      "Enter the temperature in celsius25\n",
      "77.0\n"
     ]
    }
   ],
   "source": [
    "#Write a program to convert celsius value to fahrenheit F=(9/5*C)+32\n",
    "Celsius = int(input(\"Enter the temperature in celsius\"))\n",
    "Fahrenheit = (9/5*Celsius)+32\n",
    "print(Fahrenheit)"
   ]
  },
  {
   "cell_type": "code",
   "execution_count": 19,
   "id": "7e45f1e8",
   "metadata": {},
   "outputs": [
    {
     "name": "stdout",
     "output_type": "stream",
     "text": [
      "Enter 1st number : 5\n",
      "Enter 2nd number : 10\n",
      "AFTER SWAPPING\n",
      "10\n",
      "5\n"
     ]
    }
   ],
   "source": [
    "#User will input (2 numbers). Write a program to swap the numbers\n",
    "a = int(input(\"Enter 1st number : \"))\n",
    "b = int(input(\"Enter 2nd number : \"))\n",
    "temp=0\n",
    "temp = a\n",
    "a = b\n",
    "b = temp\n",
    "print(\"AFTER SWAPPING\")\n",
    "print(a)\n",
    "print(b)"
   ]
  },
  {
   "cell_type": "code",
   "execution_count": 33,
   "id": "7cd9c73d",
   "metadata": {},
   "outputs": [
    {
     "name": "stdout",
     "output_type": "stream",
     "text": [
      "Enter a 3digit number : 555\n",
      "15\n"
     ]
    }
   ],
   "source": [
    "#Write a program that will give you sum of 3 digits\n",
    "number= int(input(\"Enter a 3digit number : \"))\n",
    "rem=0\n",
    "sum=0\n",
    "while(number>0):\n",
    "    rem = number%10\n",
    "    sum = sum + rem\n",
    "    number = number//10\n",
    "print(sum)\n"
   ]
  },
  {
   "cell_type": "code",
   "execution_count": 4,
   "id": "fa47efd9",
   "metadata": {},
   "outputs": [
    {
     "name": "stdout",
     "output_type": "stream",
     "text": [
      "Enter a number : 123\n",
      "321\n"
     ]
    }
   ],
   "source": [
    "#Write a program that will reverse a four digit number. Also it checks whether the reverse is true\n",
    "num = int(input(\"Enter a number : \"))\n",
    "rem=0\n",
    "rev=0\n",
    "while(num>0):\n",
    "    rem = num%10\n",
    "    rev = rev*10+rem\n",
    "    num = num//10\n",
    "print(rev)"
   ]
  },
  {
   "cell_type": "code",
   "execution_count": 8,
   "id": "02425b39",
   "metadata": {},
   "outputs": [
    {
     "name": "stdout",
     "output_type": "stream",
     "text": [
      "Enter a number : 1\n",
      "It is odd number \n"
     ]
    }
   ],
   "source": [
    "#Write a program that will tell whether the number entered by the user is odd or even\n",
    "n1 = int(input(\"Enter a number : \"))\n",
    "if(n1%2==0):\n",
    "    print(\"It is even number\")\n",
    "else:\n",
    "    print(\"It is odd number \")"
   ]
  },
  {
   "cell_type": "code",
   "execution_count": 19,
   "id": "f4b1e002",
   "metadata": {},
   "outputs": [
    {
     "name": "stdout",
     "output_type": "stream",
     "text": [
      "Enter the year : 2012\n",
      "It is a leap year\n"
     ]
    }
   ],
   "source": [
    "#Write a program that will tell whether the given year is a leap year or not.\n",
    "n2 = int(input(\"Enter the year : \"))\n",
    "if(n2%4==0 and n2%400==0 or n2%100!=0):\n",
    "    print(\"It is a leap year\")\n",
    "else:\n",
    "    print(\"It is not a leap year\")"
   ]
  },
  {
   "cell_type": "code",
   "execution_count": null,
   "id": "0be0454f",
   "metadata": {},
   "outputs": [],
   "source": [
    "#Write a program to find the euclidean distance between two coordinates\n",
    "x1=int(input(\"Enter x1 value : \"))\n",
    "x2 = int(input(\"Enter x2 value : \"))\n",
    "x3 = int(input(\"Enter x3 value : \"))\n",
    "x4 = int(input(\"Enter x4 value : \"))"
   ]
  }
 ],
 "metadata": {
  "kernelspec": {
   "display_name": "Python 3 (ipykernel)",
   "language": "python",
   "name": "python3"
  },
  "language_info": {
   "codemirror_mode": {
    "name": "ipython",
    "version": 3
   },
   "file_extension": ".py",
   "mimetype": "text/x-python",
   "name": "python",
   "nbconvert_exporter": "python",
   "pygments_lexer": "ipython3",
   "version": "3.10.9"
  }
 },
 "nbformat": 4,
 "nbformat_minor": 5
}
