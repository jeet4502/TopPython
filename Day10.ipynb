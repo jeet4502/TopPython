{
 "cells": [
  {
   "cell_type": "code",
   "execution_count": 31,
   "id": "91037712",
   "metadata": {},
   "outputs": [
    {
     "name": "stdout",
     "output_type": "stream",
     "text": [
      "Enter your string : abc1234\n",
      "10\n"
     ]
    }
   ],
   "source": [
    "#Take a alphanumeric string input and print the sum and average of the digits that appear in the string, ignoring all other \n",
    "#characters\n",
    "sum=0\n",
    "s = input(\"Enter your string : \")\n",
    "for i in s:\n",
    "    a =i.isnumeric()\n",
    "#     print(a)\n",
    "    if(a==True):\n",
    "        sum=sum+int(i)\n",
    "print(sum)"
   ]
  },
  {
   "cell_type": "code",
   "execution_count": 1,
   "id": "85a3f722",
   "metadata": {},
   "outputs": [
    {
     "name": "stdout",
     "output_type": "stream",
     "text": [
      "abc241gd154\n",
      "17\n",
      "2.83\n"
     ]
    }
   ],
   "source": [
    "sentence = input().split()\n",
    "op=[]\n",
    "for i in sentence:\n",
    "    if(i.isdigit()):\n",
    "        op.append(int(i))\n",
    "    else:\n",
    "        for j in i:\n",
    "            if(j.isdigit()):\n",
    "                op.append(int(j))\n",
    "print(sum(op))\n",
    "avg = sum(op)/len(op)\n",
    "print(round(avg,2))"
   ]
  },
  {
   "cell_type": "code",
   "execution_count": null,
   "id": "2222e52b",
   "metadata": {},
   "outputs": [],
   "source": []
  }
 ],
 "metadata": {
  "kernelspec": {
   "display_name": "Python 3 (ipykernel)",
   "language": "python",
   "name": "python3"
  },
  "language_info": {
   "codemirror_mode": {
    "name": "ipython",
    "version": 3
   },
   "file_extension": ".py",
   "mimetype": "text/x-python",
   "name": "python",
   "nbconvert_exporter": "python",
   "pygments_lexer": "ipython3",
   "version": "3.10.9"
  }
 },
 "nbformat": 4,
 "nbformat_minor": 5
}
