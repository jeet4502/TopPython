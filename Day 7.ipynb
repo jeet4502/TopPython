{
 "cells": [
  {
   "cell_type": "code",
   "execution_count": 1,
   "id": "8c89d85f",
   "metadata": {},
   "outputs": [
    {
     "name": "stdout",
     "output_type": "stream",
     "text": [
      "Enter your number : 1253\n",
      "The sum of number is  161\n",
      "It is not an armstrong number\n"
     ]
    }
   ],
   "source": [
    "#Program to check if a given number is an Armstrong number\n",
    "\n",
    "def calculation(count,rem,cube,result):\n",
    "#count = 0\n",
    "#rem=0\n",
    "#cube=0\n",
    "#result=0\n",
    "    x = int(input(\"Enter your number : \"))\n",
    "    temp=x\n",
    "    while(x>0):\n",
    "        rem=x%10\n",
    "        cube=rem*rem*rem\n",
    "        result=result+cube\n",
    "        x=x//10\n",
    "        \n",
    "    print(\"The sum of number is \",result)\n",
    "    return temp,result,count\n",
    "x,result,count=calculation(0,0,0,0)\n",
    "if(result==x):\n",
    "    print(\"It is an armstrong number\")\n",
    "else:\n",
    "    print(\"It is not an armstrong number\")"
   ]
  },
  {
   "cell_type": "code",
   "execution_count": 7,
   "id": "57457c78",
   "metadata": {},
   "outputs": [
    {
     "name": "stdout",
     "output_type": "stream",
     "text": [
      "Enter the first number of the series 0\n",
      "Enter the second number of the series 1\n",
      "Enter the  last number upto what range you want 100\n",
      "0\n",
      "1\n",
      "1\n",
      "2\n",
      "3\n",
      "5\n",
      "8\n",
      "13\n",
      "21\n",
      "34\n",
      "55\n",
      "89\n"
     ]
    }
   ],
   "source": [
    "#Python program to get the fibonacci series between 0 to 50\n",
    "\n",
    "a=int(input(\"Enter the first number of the series \"))\n",
    "b=int(input(\"Enter the second number of the series \"))\n",
    "n=int(input(\"Enter the  last number upto what range you want \"))\n",
    "print(a)\n",
    "print(b)\n",
    "while(n):\n",
    "    c=a+b\n",
    "    a=b\n",
    "    b=c\n",
    "    if(c<=n):\n",
    "        print(c)\n",
    "    n=n-1\n",
    "    "
   ]
  },
  {
   "cell_type": "code",
   "execution_count": 3,
   "id": "923fb04d",
   "metadata": {},
   "outputs": [
    {
     "name": "stdout",
     "output_type": "stream",
     "text": [
      "Enter your password : 123456789\n",
      "It is not a valid password\n"
     ]
    }
   ],
   "source": [
    "#Python program to check the validity of password input by user\n",
    "# Minimum 8 to 15 characters\n",
    "#At least one number, one lower case, one uppercase and one special characters\n",
    "# Password cannot have space\n",
    "n = input(\"Enter your password : \")\n",
    "r = len(n)\n",
    "if(r>=8 and n==\"A-Z\" and n==\"a-z\" and n==\"0-9\"and n==\"@!#$%&^*._\"):\n",
    "    print(\"It is valid passowrd\")\n",
    "else:\n",
    "    print(\"It is not a valid password\")\n",
    "   "
   ]
  },
  {
   "cell_type": "code",
   "execution_count": null,
   "id": "73577bd9",
   "metadata": {},
   "outputs": [],
   "source": []
  },
  {
   "cell_type": "code",
   "execution_count": null,
   "id": "5a50c872",
   "metadata": {},
   "outputs": [],
   "source": []
  }
 ],
 "metadata": {
  "kernelspec": {
   "display_name": "Python 3 (ipykernel)",
   "language": "python",
   "name": "python3"
  },
  "language_info": {
   "codemirror_mode": {
    "name": "ipython",
    "version": 3
   },
   "file_extension": ".py",
   "mimetype": "text/x-python",
   "name": "python",
   "nbconvert_exporter": "python",
   "pygments_lexer": "ipython3",
   "version": "3.10.9"
  }
 },
 "nbformat": 4,
 "nbformat_minor": 5
}
