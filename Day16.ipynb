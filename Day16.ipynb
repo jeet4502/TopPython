{
 "cells": [
  {
   "cell_type": "code",
   "execution_count": 1,
   "id": "84f9db24",
   "metadata": {},
   "outputs": [],
   "source": [
    "#FUNCTIONS\n",
    "#LAMDA\n",
    "#MAP, FILTER, REDUCE\n",
    "#FUNCTION: Function is set of instructions which performs particular task"
   ]
  },
  {
   "cell_type": "code",
   "execution_count": 2,
   "id": "21fbcd4e",
   "metadata": {},
   "outputs": [
    {
     "name": "stdout",
     "output_type": "stream",
     "text": [
      "Addition of two numbers are : 50\n"
     ]
    }
   ],
   "source": [
    "def addition(x,y):\n",
    "    return x+y\n",
    "res = addition(25,25)\n",
    "print(f'Addition of two numbers are : {res}')"
   ]
  },
  {
   "cell_type": "code",
   "execution_count": 4,
   "id": "d10c2d6d",
   "metadata": {},
   "outputs": [
    {
     "name": "stdout",
     "output_type": "stream",
     "text": [
      "Addition of two numbers are : 50\n"
     ]
    }
   ],
   "source": [
    "res = lambda x,y:x+y\n",
    "result=res(25,25)\n",
    "print(f'Addition of two numbers are : {result}')"
   ]
  },
  {
   "cell_type": "code",
   "execution_count": 5,
   "id": "d4c1f5cd",
   "metadata": {},
   "outputs": [
    {
     "name": "stdout",
     "output_type": "stream",
     "text": [
      "Square of number is :25\n"
     ]
    }
   ],
   "source": [
    "def Square_Number(n):\n",
    "    return(lambda x : x*x)(n)\n",
    "result=Square_Number(5)\n",
    "print(f'Square of number is :{result}')"
   ]
  },
  {
   "cell_type": "code",
   "execution_count": 9,
   "id": "2ca5e3d9",
   "metadata": {},
   "outputs": [
    {
     "name": "stdout",
     "output_type": "stream",
     "text": [
      "1\n",
      "4\n",
      "9\n",
      "16\n",
      "25\n"
     ]
    }
   ],
   "source": [
    "def Square_Number(x):\n",
    "    return lambda:x*x\n",
    "functions = [Square_Number(i)for i in [1,2,3,4,5]]\n",
    "for function in functions:\n",
    "    print(function())"
   ]
  },
  {
   "cell_type": "code",
   "execution_count": 11,
   "id": "049dd998",
   "metadata": {},
   "outputs": [
    {
     "name": "stdout",
     "output_type": "stream",
     "text": [
      "one\n",
      "two\n",
      "three\n"
     ]
    }
   ],
   "source": [
    "numbers = 'one','two','three'\n",
    "funcs=[]\n",
    "for n in numbers:\n",
    "    funcs.append(lambda n=n:print(n))\n",
    "for f in funcs:\n",
    "    f()"
   ]
  },
  {
   "cell_type": "code",
   "execution_count": 12,
   "id": "8dc78345",
   "metadata": {},
   "outputs": [
    {
     "name": "stdout",
     "output_type": "stream",
     "text": [
      "['THOR', 'FORE', 'JORE']\n"
     ]
    }
   ],
   "source": [
    "res = list(map(lambda x:x.upper(),[\"thor\",\"fore\",\"jore\"]))\n",
    "print(res)"
   ]
  },
  {
   "cell_type": "code",
   "execution_count": 13,
   "id": "210f2c32",
   "metadata": {},
   "outputs": [
    {
     "name": "stdout",
     "output_type": "stream",
     "text": [
      "['orange', 'dog', 'lokesh']\n"
     ]
    }
   ],
   "source": [
    "res = list(filter(lambda x : 'o' in x,['orange','apple','dog','lokesh','rakesh']))\n",
    "print(res)"
   ]
  },
  {
   "cell_type": "code",
   "execution_count": 14,
   "id": "9c1390f8",
   "metadata": {},
   "outputs": [
    {
     "name": "stdout",
     "output_type": "stream",
     "text": [
      "cat|dog|cow\n"
     ]
    }
   ],
   "source": [
    "from functools import reduce\n",
    "res = reduce(lambda acc,x:f'{acc}|{x}',['cat','dog','cow'])\n",
    "print(res)"
   ]
  },
  {
   "cell_type": "code",
   "execution_count": 20,
   "id": "d12a724f",
   "metadata": {},
   "outputs": [
    {
     "name": "stdout",
     "output_type": "stream",
     "text": [
      "<function <lambda> at 0x000001EA96D45CF0> [2, 4, 5, 6, 7]\n"
     ]
    }
   ],
   "source": [
    "print((lambda x:list(map(lambda y :y*y),x)),([2,4,5,6,7]))"
   ]
  },
  {
   "cell_type": "code",
   "execution_count": 21,
   "id": "0ad6a79a",
   "metadata": {},
   "outputs": [
    {
     "name": "stdout",
     "output_type": "stream",
     "text": [
      "20\n"
     ]
    }
   ],
   "source": [
    "print((lambda x : (lambda y : x*y))(2)(10))"
   ]
  },
  {
   "cell_type": "code",
   "execution_count": 22,
   "id": "45e211bb",
   "metadata": {},
   "outputs": [
    {
     "name": "stdout",
     "output_type": "stream",
     "text": [
      "Reduced result is :24\n"
     ]
    }
   ],
   "source": [
    "list_data=[2,4,5,6,7]\n",
    "result = reduce(lambda x,y:x+y,list_data)\n",
    "print(f'Reduced result is :{result}')"
   ]
  },
  {
   "cell_type": "code",
   "execution_count": null,
   "id": "2943a5af",
   "metadata": {},
   "outputs": [],
   "source": []
  }
 ],
 "metadata": {
  "kernelspec": {
   "display_name": "Python 3 (ipykernel)",
   "language": "python",
   "name": "python3"
  },
  "language_info": {
   "codemirror_mode": {
    "name": "ipython",
    "version": 3
   },
   "file_extension": ".py",
   "mimetype": "text/x-python",
   "name": "python",
   "nbconvert_exporter": "python",
   "pygments_lexer": "ipython3",
   "version": "3.10.9"
  }
 },
 "nbformat": 4,
 "nbformat_minor": 5
}
