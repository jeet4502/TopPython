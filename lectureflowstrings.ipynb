{
 "cells": [
  {
   "cell_type": "code",
   "execution_count": 1,
   "id": "09d9ff0c",
   "metadata": {},
   "outputs": [
    {
     "name": "stdout",
     "output_type": "stream",
     "text": [
      "Enter your stringHello\n",
      "Hello\n"
     ]
    }
   ],
   "source": [
    "#W.A.P to print (Hello) using string Allocate string to a variable\n",
    "a = input(\"Enter your string\")\n",
    "print(a)"
   ]
  },
  {
   "cell_type": "code",
   "execution_count": 3,
   "id": "d2695b4b",
   "metadata": {},
   "outputs": [
    {
     "name": "stdout",
     "output_type": "stream",
     "text": [
      "<class 'str'>\n"
     ]
    }
   ],
   "source": [
    "print(type(a))"
   ]
  },
  {
   "cell_type": "code",
   "execution_count": 6,
   "id": "36da443b",
   "metadata": {},
   "outputs": [
    {
     "name": "stdout",
     "output_type": "stream",
     "text": [
      "Hello I am Jeet\n"
     ]
    }
   ],
   "source": [
    "#W.A.P to print String using three quotes\n",
    "str1 = '''Hello'''\n",
    "str2 = ''' I am '''\n",
    "str3 = '''Jeet'''\n",
    "a = str1+str2+str3\n",
    "print(a)"
   ]
  },
  {
   "cell_type": "code",
   "execution_count": 8,
   "id": "06b68db4",
   "metadata": {},
   "outputs": [
    {
     "name": "stdout",
     "output_type": "stream",
     "text": [
      "enter your string : jeet\n",
      "Which character index u want : e\n",
      "2\n"
     ]
    }
   ],
   "source": [
    "#W.A.P to access the 1st position character using index value.\n",
    "b = input(\"enter your string : \")\n",
    "a = input(\"Which character index u want : \")\n",
    "print(b.rfind(a))"
   ]
  },
  {
   "cell_type": "code",
   "execution_count": 9,
   "id": "b5376241",
   "metadata": {},
   "outputs": [],
   "source": [
    "# How to get common items between two numpy arrays\n",
    "import numpy as np"
   ]
  },
  {
   "cell_type": "code",
   "execution_count": 10,
   "id": "07e76cdb",
   "metadata": {},
   "outputs": [
    {
     "name": "stdout",
     "output_type": "stream",
     "text": [
      "[1 2 3 4]\n"
     ]
    }
   ],
   "source": [
    "a = np.array([1,2,3,4])\n",
    "print(a)"
   ]
  },
  {
   "cell_type": "code",
   "execution_count": 11,
   "id": "41e85ba4",
   "metadata": {},
   "outputs": [
    {
     "name": "stdout",
     "output_type": "stream",
     "text": [
      "[1 2 3 5 4 7]\n"
     ]
    }
   ],
   "source": [
    "b = np.array([1,2,3,5,4,7])\n",
    "print(b)"
   ]
  },
  {
   "cell_type": "code",
   "execution_count": 12,
   "id": "5c968201",
   "metadata": {},
   "outputs": [
    {
     "data": {
      "text/plain": [
       "array([1, 2, 3, 4])"
      ]
     },
     "execution_count": 12,
     "metadata": {},
     "output_type": "execute_result"
    }
   ],
   "source": [
    "np.intersect1d(a,b)"
   ]
  },
  {
   "cell_type": "code",
   "execution_count": 13,
   "id": "f09ce322",
   "metadata": {},
   "outputs": [
    {
     "data": {
      "text/plain": [
       "array([], dtype=int32)"
      ]
     },
     "execution_count": 13,
     "metadata": {},
     "output_type": "execute_result"
    }
   ],
   "source": [
    "np.setdiff1d(a,b)"
   ]
  },
  {
   "cell_type": "code",
   "execution_count": 14,
   "id": "419e06db",
   "metadata": {},
   "outputs": [],
   "source": [
    "#how to get the position where elements of two array match"
   ]
  },
  {
   "cell_type": "code",
   "execution_count": 23,
   "id": "99e2c3c1",
   "metadata": {},
   "outputs": [],
   "source": [
    "a = np.array([1,2,3,4,5,6,7,8,9])\n",
    "b = np.array([1,2,3,4,5,7,8,9,1])"
   ]
  },
  {
   "cell_type": "code",
   "execution_count": 24,
   "id": "cf3bb4d5",
   "metadata": {},
   "outputs": [
    {
     "data": {
      "text/plain": [
       "(array([0, 1, 2, 3, 4], dtype=int64),)"
      ]
     },
     "execution_count": 24,
     "metadata": {},
     "output_type": "execute_result"
    }
   ],
   "source": [
    "np.where(a== b)"
   ]
  },
  {
   "cell_type": "code",
   "execution_count": 12,
   "id": "94426659",
   "metadata": {},
   "outputs": [
    {
     "name": "stdout",
     "output_type": "stream",
     "text": [
      "enter your string : jeetdesai\n",
      "eetdesai\n"
     ]
    }
   ],
   "source": [
    "#W.A.P to Access the string after the index value 1 Slicing\n",
    "b = input(\"enter your string : \")\n",
    "print(b[1:])"
   ]
  },
  {
   "cell_type": "code",
   "execution_count": 13,
   "id": "68ec02be",
   "metadata": {},
   "outputs": [
    {
     "name": "stdout",
     "output_type": "stream",
     "text": [
      "enter your string : jeetdesai\n",
      "jeetd\n"
     ]
    }
   ],
   "source": [
    "#W.A.P to Access the string before the index value 5\n",
    "b = input(\"enter your string : \")\n",
    "print(b[:5])"
   ]
  },
  {
   "cell_type": "code",
   "execution_count": 14,
   "id": "1a2cc3cf",
   "metadata": {},
   "outputs": [
    {
     "name": "stdout",
     "output_type": "stream",
     "text": [
      "enter your string : jeetdesai\n",
      "eet\n"
     ]
    }
   ],
   "source": [
    "#W.A.P to Access the String between the index value 1 to 4\n",
    "b = input(\"enter your string : \")\n",
    "print(b[1:4])"
   ]
  },
  {
   "cell_type": "code",
   "execution_count": 33,
   "id": "a49f9008",
   "metadata": {},
   "outputs": [
    {
     "name": "stdout",
     "output_type": "stream",
     "text": [
      "enter your string : jeet\n",
      "t\n"
     ]
    }
   ],
   "source": [
    "# W.A.P to print the string from the last index value\n",
    "b = input(\"enter your string : \")\n",
    "print(b[-1])"
   ]
  },
  {
   "cell_type": "code",
   "execution_count": 36,
   "id": "ad0a5a75",
   "metadata": {},
   "outputs": [
    {
     "name": "stdout",
     "output_type": "stream",
     "text": [
      "enter your string : jeet\n",
      "jeep\n"
     ]
    }
   ],
   "source": [
    "# W.A.P to print the String alternate character after the index value 1\n",
    "b = input(\"enter your string : \")\n",
    "a = (b[3])\n",
    "c = 'p'\n",
    "d = b.replace(a,c)\n",
    "print(d)"
   ]
  },
  {
   "cell_type": "code",
   "execution_count": 38,
   "id": "8eaa5ffa",
   "metadata": {},
   "outputs": [
    {
     "name": "stdout",
     "output_type": "stream",
     "text": [
      "<class 'list'>\n",
      "[1, 'jeet', 5.2, True]\n"
     ]
    }
   ],
   "source": [
    "#W.A.P create the list of multiple datatype element\n",
    "a=[1,\"jeet\",5.2,True]\n",
    "print(type(a))\n",
    "print(a)"
   ]
  },
  {
   "cell_type": "code",
   "execution_count": 39,
   "id": "5504ba61",
   "metadata": {},
   "outputs": [
    {
     "name": "stdout",
     "output_type": "stream",
     "text": [
      "4\n"
     ]
    }
   ],
   "source": [
    "#W.A.P to find the length of the list.\n",
    "print(len(a))"
   ]
  },
  {
   "cell_type": "code",
   "execution_count": 40,
   "id": "04c9698e",
   "metadata": {},
   "outputs": [
    {
     "name": "stdout",
     "output_type": "stream",
     "text": [
      "[1, 'jeet', 5.2, True, 'Hello world']\n"
     ]
    }
   ],
   "source": [
    "#W.A.P to update the list using the insert() and append()\n",
    "a.append(\"Hello world\")\n",
    "print(a)"
   ]
  },
  {
   "cell_type": "code",
   "execution_count": 49,
   "id": "f29faf55",
   "metadata": {},
   "outputs": [
    {
     "name": "stdout",
     "output_type": "stream",
     "text": [
      "['python', 1, 'jeet', 5.2, True]\n"
     ]
    }
   ],
   "source": [
    "a.insert(0,\"python\")\n",
    "print(a)"
   ]
  },
  {
   "cell_type": "code",
   "execution_count": 42,
   "id": "9baab518",
   "metadata": {},
   "outputs": [
    {
     "name": "stdout",
     "output_type": "stream",
     "text": [
      "['python', 1, 'jeet', 5.2, True]\n"
     ]
    }
   ],
   "source": [
    "#W.A.P to remove the element using the pop() and remove()\n",
    "a.pop()\n",
    "print(a)"
   ]
  },
  {
   "cell_type": "code",
   "execution_count": 51,
   "id": "d97f0725",
   "metadata": {},
   "outputs": [],
   "source": [
    "a.remove(\"python\")"
   ]
  },
  {
   "cell_type": "code",
   "execution_count": 52,
   "id": "fd8b0340",
   "metadata": {},
   "outputs": [
    {
     "name": "stdout",
     "output_type": "stream",
     "text": [
      "[1, 'jeet', 5.2, True]\n"
     ]
    }
   ],
   "source": [
    "print(a)"
   ]
  },
  {
   "cell_type": "code",
   "execution_count": 53,
   "id": "3d9c19a7",
   "metadata": {},
   "outputs": [
    {
     "data": {
      "text/plain": [
       "[1, 'jeet', 5.2, True]"
      ]
     },
     "execution_count": 53,
     "metadata": {},
     "output_type": "execute_result"
    }
   ],
   "source": [
    "#W.A.P to access value on index value in the list\n",
    "a"
   ]
  },
  {
   "cell_type": "code",
   "execution_count": 59,
   "id": "f47bffe4",
   "metadata": {},
   "outputs": [
    {
     "name": "stdout",
     "output_type": "stream",
     "text": [
      "[(0, 1), (1, 'jeet'), (2, 5.2), (3, True)]\n"
     ]
    }
   ],
   "source": [
    "print(list(enumerate(a)))"
   ]
  },
  {
   "cell_type": "code",
   "execution_count": 62,
   "id": "0bcb09e8",
   "metadata": {},
   "outputs": [
    {
     "name": "stdout",
     "output_type": "stream",
     "text": [
      "['jeet', 5.2, True]\n"
     ]
    }
   ],
   "source": [
    "#W.A.P to access the value after the index value 1.\n",
    "print(a[1:])"
   ]
  },
  {
   "cell_type": "code",
   "execution_count": 63,
   "id": "17e22604",
   "metadata": {},
   "outputs": [
    {
     "name": "stdout",
     "output_type": "stream",
     "text": [
      "['jeet', 5.2, True]\n"
     ]
    }
   ],
   "source": [
    "#W.A.P to access the value between 1 to 5\n",
    "print(a[1:6])"
   ]
  },
  {
   "cell_type": "code",
   "execution_count": 64,
   "id": "44a617ef",
   "metadata": {},
   "outputs": [],
   "source": [
    "a.append(\"Hello\")"
   ]
  },
  {
   "cell_type": "code",
   "execution_count": 65,
   "id": "71d25246",
   "metadata": {},
   "outputs": [],
   "source": [
    "a.append(\"desai\")"
   ]
  },
  {
   "cell_type": "code",
   "execution_count": 66,
   "id": "e8e8aca9",
   "metadata": {},
   "outputs": [
    {
     "data": {
      "text/plain": [
       "[1, 'jeet', 5.2, True, 'Hello', 'desai']"
      ]
     },
     "execution_count": 66,
     "metadata": {},
     "output_type": "execute_result"
    }
   ],
   "source": [
    "a"
   ]
  },
  {
   "cell_type": "code",
   "execution_count": 67,
   "id": "3060d3f6",
   "metadata": {},
   "outputs": [],
   "source": [
    "a.append(21)"
   ]
  },
  {
   "cell_type": "code",
   "execution_count": 68,
   "id": "3870ba59",
   "metadata": {},
   "outputs": [],
   "source": [
    "a.append(12)"
   ]
  },
  {
   "cell_type": "code",
   "execution_count": 69,
   "id": "8bad12d3",
   "metadata": {},
   "outputs": [
    {
     "data": {
      "text/plain": [
       "[1, 'jeet', 5.2, True, 'Hello', 'desai', 21, 12]"
      ]
     },
     "execution_count": 69,
     "metadata": {},
     "output_type": "execute_result"
    }
   ],
   "source": [
    "a"
   ]
  },
  {
   "cell_type": "code",
   "execution_count": 70,
   "id": "8ad8c669",
   "metadata": {},
   "outputs": [
    {
     "name": "stdout",
     "output_type": "stream",
     "text": [
      "['jeet', 5.2, True, 'Hello', 'desai']\n"
     ]
    }
   ],
   "source": [
    "print(a[1:6])"
   ]
  },
  {
   "cell_type": "code",
   "execution_count": 71,
   "id": "37d9191f",
   "metadata": {},
   "outputs": [
    {
     "name": "stdout",
     "output_type": "stream",
     "text": [
      "[1, 'jeet', 5.2, True, 'Hello']\n"
     ]
    }
   ],
   "source": [
    "# W.A.P to access the value till index 5\n",
    "print(a[:5])"
   ]
  },
  {
   "cell_type": "code",
   "execution_count": 72,
   "id": "2f2ba3da",
   "metadata": {},
   "outputs": [
    {
     "data": {
      "text/plain": [
       "[1, 'jeet', 5.2, True, 'Hello', 'desai', 21, 12]"
      ]
     },
     "execution_count": 72,
     "metadata": {},
     "output_type": "execute_result"
    }
   ],
   "source": [
    "#W.A.P to update the list using the index value\n",
    "a"
   ]
  },
  {
   "cell_type": "code",
   "execution_count": null,
   "id": "fad985db",
   "metadata": {},
   "outputs": [],
   "source": [
    "b = int(input(\"Enter the index value which you want to update : \"))\n"
   ]
  }
 ],
 "metadata": {
  "kernelspec": {
   "display_name": "Python 3 (ipykernel)",
   "language": "python",
   "name": "python3"
  },
  "language_info": {
   "codemirror_mode": {
    "name": "ipython",
    "version": 3
   },
   "file_extension": ".py",
   "mimetype": "text/x-python",
   "name": "python",
   "nbconvert_exporter": "python",
   "pygments_lexer": "ipython3",
   "version": "3.10.9"
  }
 },
 "nbformat": 4,
 "nbformat_minor": 5
}
