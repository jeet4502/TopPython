{
 "cells": [
  {
   "cell_type": "code",
   "execution_count": 1,
   "id": "04776ddb",
   "metadata": {},
   "outputs": [
    {
     "name": "stdout",
     "output_type": "stream",
     "text": [
      "[10, 5, 24, 45, 28]\n"
     ]
    }
   ],
   "source": [
    "age=[10,5,24,45,28]\n",
    "print(age)\n"
   ]
  },
  {
   "cell_type": "code",
   "execution_count": 2,
   "id": "05adceb3",
   "metadata": {},
   "outputs": [
    {
     "name": "stdout",
     "output_type": "stream",
     "text": [
      "[10, 5, 24, 45, 28, 'Jeet']\n"
     ]
    }
   ],
   "source": [
    "#APPEND\n",
    "age.append(\"Jeet\")\n",
    "print(age)"
   ]
  },
  {
   "cell_type": "code",
   "execution_count": 3,
   "id": "76e6d03f",
   "metadata": {},
   "outputs": [
    {
     "name": "stdout",
     "output_type": "stream",
     "text": [
      "[10, 5, 45, 28, 'Jeet']\n"
     ]
    }
   ],
   "source": [
    "#POP\n",
    "age.pop(2)\n",
    "print(age)"
   ]
  },
  {
   "cell_type": "code",
   "execution_count": 4,
   "id": "11a16525",
   "metadata": {},
   "outputs": [
    {
     "name": "stdout",
     "output_type": "stream",
     "text": [
      "2\n"
     ]
    }
   ],
   "source": [
    "#INDEX\n",
    "a=age.index(45)\n",
    "print(a)"
   ]
  },
  {
   "cell_type": "code",
   "execution_count": 6,
   "id": "1b25064f",
   "metadata": {},
   "outputs": [
    {
     "name": "stdout",
     "output_type": "stream",
     "text": [
      "['Hello World', 10, 5, 45, 28, 'Jeet']\n"
     ]
    }
   ],
   "source": [
    "#INSERT\n",
    "print(age)\n",
    "age.insert(0,\"Hello World\")\n"
   ]
  },
  {
   "cell_type": "code",
   "execution_count": 7,
   "id": "ff86e251",
   "metadata": {},
   "outputs": [],
   "source": [
    "#REMOVE\n",
    "age.remove(\"Jeet\")"
   ]
  },
  {
   "cell_type": "code",
   "execution_count": 10,
   "id": "dc4785df",
   "metadata": {},
   "outputs": [
    {
     "name": "stdout",
     "output_type": "stream",
     "text": [
      "['Hello World', 'Hello World', 10, 5, 45, 28]\n"
     ]
    }
   ],
   "source": [
    "print(age)"
   ]
  },
  {
   "cell_type": "code",
   "execution_count": 13,
   "id": "bbbea33d",
   "metadata": {},
   "outputs": [],
   "source": [
    "age.remove(\"Hello World\")"
   ]
  },
  {
   "cell_type": "code",
   "execution_count": 14,
   "id": "e6df1adc",
   "metadata": {},
   "outputs": [
    {
     "name": "stdout",
     "output_type": "stream",
     "text": [
      "[10, 5, 45, 28]\n"
     ]
    }
   ],
   "source": [
    "print(age)"
   ]
  },
  {
   "cell_type": "code",
   "execution_count": 31,
   "id": "8988a539",
   "metadata": {},
   "outputs": [
    {
     "name": "stdout",
     "output_type": "stream",
     "text": [
      "['JEET', 'TIRTH', 'HET', 'JAY', 'HARSH']\n"
     ]
    }
   ],
   "source": [
    "name=[\"JEET\",\"TIRTH\",\"HET\",\"JAY\",\"HARSH\"]\n",
    "print(name)"
   ]
  },
  {
   "cell_type": "code",
   "execution_count": 32,
   "id": "f3cfc6f7",
   "metadata": {},
   "outputs": [
    {
     "name": "stdout",
     "output_type": "stream",
     "text": [
      "[10, 45, 28, 'JEET', 'TIRTH', 'HET', 'JAY', 'HARSH']\n"
     ]
    }
   ],
   "source": [
    "#EXTEND\n",
    "age.extend(name)\n",
    "print(age)"
   ]
  },
  {
   "cell_type": "code",
   "execution_count": 35,
   "id": "caece965",
   "metadata": {},
   "outputs": [
    {
     "name": "stdout",
     "output_type": "stream",
     "text": [
      "[1, 5, 7, 10, 27, 36, 88]\n"
     ]
    }
   ],
   "source": [
    "#SORT\n",
    "num = [10,5,7,36,1,88,27]\n",
    "num.sort()\n",
    "print(num)"
   ]
  },
  {
   "cell_type": "code",
   "execution_count": 36,
   "id": "54bbb5d1",
   "metadata": {},
   "outputs": [
    {
     "name": "stdout",
     "output_type": "stream",
     "text": [
      "[]\n"
     ]
    }
   ],
   "source": [
    "#CLEAR\n",
    "num.clear()\n",
    "print(num)"
   ]
  },
  {
   "cell_type": "code",
   "execution_count": 1,
   "id": "5f864b63",
   "metadata": {},
   "outputs": [
    {
     "name": "stdout",
     "output_type": "stream",
     "text": [
      "<class 'tuple'>\n"
     ]
    }
   ],
   "source": [
    "fruits=(\"Apple\",\"Banana\",\"Grapes\")\n",
    "print(type(fruits))"
   ]
  },
  {
   "cell_type": "code",
   "execution_count": 2,
   "id": "6b0a5067",
   "metadata": {},
   "outputs": [
    {
     "name": "stdout",
     "output_type": "stream",
     "text": [
      "<class 'set'>\n"
     ]
    }
   ],
   "source": [
    "movies={\"KGF\",\"Avengers\",\"War\",\"Robot\"}\n",
    "print(type(movies))"
   ]
  },
  {
   "cell_type": "code",
   "execution_count": 3,
   "id": "1082d130",
   "metadata": {},
   "outputs": [],
   "source": [
    "#Type Conversion\n",
    "x= 25.4"
   ]
  },
  {
   "cell_type": "code",
   "execution_count": 4,
   "id": "be1c6dd9",
   "metadata": {},
   "outputs": [
    {
     "data": {
      "text/plain": [
       "25"
      ]
     },
     "execution_count": 4,
     "metadata": {},
     "output_type": "execute_result"
    }
   ],
   "source": [
    "int(x)#Explicit Conversion"
   ]
  },
  {
   "cell_type": "code",
   "execution_count": 5,
   "id": "9db7525d",
   "metadata": {},
   "outputs": [],
   "source": [
    "x = 25"
   ]
  },
  {
   "cell_type": "code",
   "execution_count": 6,
   "id": "c4c53c8e",
   "metadata": {},
   "outputs": [
    {
     "data": {
      "text/plain": [
       "25.0"
      ]
     },
     "execution_count": 6,
     "metadata": {},
     "output_type": "execute_result"
    }
   ],
   "source": [
    "float(x)#Implicit Conversion"
   ]
  },
  {
   "cell_type": "code",
   "execution_count": null,
   "id": "7dddfb9e",
   "metadata": {},
   "outputs": [],
   "source": []
  }
 ],
 "metadata": {
  "kernelspec": {
   "display_name": "Python 3 (ipykernel)",
   "language": "python",
   "name": "python3"
  },
  "language_info": {
   "codemirror_mode": {
    "name": "ipython",
    "version": 3
   },
   "file_extension": ".py",
   "mimetype": "text/x-python",
   "name": "python",
   "nbconvert_exporter": "python",
   "pygments_lexer": "ipython3",
   "version": "3.10.9"
  }
 },
 "nbformat": 4,
 "nbformat_minor": 5
}
